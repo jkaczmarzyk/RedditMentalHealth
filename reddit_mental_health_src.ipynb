{
  "nbformat": 4,
  "nbformat_minor": 0,
  "metadata": {
    "colab": {
      "name": "reddit_mental_health.ipynb",
      "provenance": [],
      "collapsed_sections": [],
      "authorship_tag": "ABX9TyPDS+YylcVhiWEL3MoofHMS",
      "include_colab_link": true
    },
    "kernelspec": {
      "name": "python3",
      "display_name": "Python 3"
    },
    "language_info": {
      "name": "python"
    },
    "accelerator": "GPU"
  },
  "cells": [
    {
      "cell_type": "markdown",
      "metadata": {
        "id": "view-in-github",
        "colab_type": "text"
      },
      "source": [
        "<a href=\"https://colab.research.google.com/github/jkaczmarzyk/RedditMentalHealth/blob/main/reddit_mental_health_src.ipynb\" target=\"_parent\"><img src=\"https://colab.research.google.com/assets/colab-badge.svg\" alt=\"Open In Colab\"/></a>"
      ]
    },
    {
      "cell_type": "code",
      "execution_count": 27,
      "metadata": {
        "colab": {
          "base_uri": "https://localhost:8080/"
        },
        "id": "99W0BFO_dA39",
        "outputId": "657732e6-ec2d-4005-fe95-7e31d481b8a3"
      },
      "outputs": [
        {
          "output_type": "stream",
          "name": "stdout",
          "text": [
            "Drive already mounted at /content/drive/; to attempt to forcibly remount, call drive.mount(\"/content/drive/\", force_remount=True).\n"
          ]
        }
      ],
      "source": [
        "# install the necessary libraries and perform authorization\n",
        "import importlib.util\n",
        "import sys\n",
        "from google.colab import drive\n",
        "drive.mount('/content/drive/')"
      ]
    },
    {
      "cell_type": "code",
      "source": [
        "# set up path to modified data loader\n",
        "sys.path.append('/content/drive/My Drive/reddit_mental_health')"
      ],
      "metadata": {
        "id": "xZ4x9daveE14"
      },
      "execution_count": 28,
      "outputs": []
    },
    {
      "cell_type": "code",
      "execution_count": 29,
      "metadata": {
        "id": "23TOba33L4qf",
        "colab": {
          "base_uri": "https://localhost:8080/"
        },
        "outputId": "458bb6cf-fa76-456c-86de-c08d4ab52671"
      },
      "outputs": [
        {
          "output_type": "stream",
          "name": "stdout",
          "text": [
            "Fri Apr 22 19:06:55 2022       \n",
            "+-----------------------------------------------------------------------------+\n",
            "| NVIDIA-SMI 460.32.03    Driver Version: 460.32.03    CUDA Version: 11.2     |\n",
            "|-------------------------------+----------------------+----------------------+\n",
            "| GPU  Name        Persistence-M| Bus-Id        Disp.A | Volatile Uncorr. ECC |\n",
            "| Fan  Temp  Perf  Pwr:Usage/Cap|         Memory-Usage | GPU-Util  Compute M. |\n",
            "|                               |                      |               MIG M. |\n",
            "|===============================+======================+======================|\n",
            "|   0  Tesla T4            Off  | 00000000:00:04.0 Off |                    0 |\n",
            "| N/A   77C    P0    33W /  70W |   2232MiB / 15109MiB |      0%      Default |\n",
            "|                               |                      |                  N/A |\n",
            "+-------------------------------+----------------------+----------------------+\n",
            "                                                                               \n",
            "+-----------------------------------------------------------------------------+\n",
            "| Processes:                                                                  |\n",
            "|  GPU   GI   CI        PID   Type   Process name                  GPU Memory |\n",
            "|        ID   ID                                                   Usage      |\n",
            "|=============================================================================|\n",
            "+-----------------------------------------------------------------------------+\n"
          ]
        }
      ],
      "source": [
        "# faster GPU with Colab Pro\n",
        "gpu_info = !nvidia-smi\n",
        "gpu_info = '\\n'.join(gpu_info)\n",
        "if gpu_info.find('failed') >= 0:\n",
        "  print('Not connected to a GPU')\n",
        "else:\n",
        "  print(gpu_info)"
      ]
    },
    {
      "cell_type": "code",
      "source": [
        "# may have to !pip install transformers\n",
        "# and then restart notebook\n",
        "\n",
        "!pip install transformers"
      ],
      "metadata": {
        "colab": {
          "base_uri": "https://localhost:8080/"
        },
        "id": "p_HxNoGueJ_R",
        "outputId": "cfdc061b-c7ca-4a23-cc4b-f769acb21b2c"
      },
      "execution_count": 30,
      "outputs": [
        {
          "output_type": "stream",
          "name": "stdout",
          "text": [
            "Requirement already satisfied: transformers in /usr/local/lib/python3.7/dist-packages (4.18.0)\n",
            "Requirement already satisfied: sacremoses in /usr/local/lib/python3.7/dist-packages (from transformers) (0.0.49)\n",
            "Requirement already satisfied: regex!=2019.12.17 in /usr/local/lib/python3.7/dist-packages (from transformers) (2019.12.20)\n",
            "Requirement already satisfied: packaging>=20.0 in /usr/local/lib/python3.7/dist-packages (from transformers) (21.3)\n",
            "Requirement already satisfied: requests in /usr/local/lib/python3.7/dist-packages (from transformers) (2.23.0)\n",
            "Requirement already satisfied: numpy>=1.17 in /usr/local/lib/python3.7/dist-packages (from transformers) (1.21.6)\n",
            "Requirement already satisfied: importlib-metadata in /usr/local/lib/python3.7/dist-packages (from transformers) (4.11.3)\n",
            "Requirement already satisfied: tqdm>=4.27 in /usr/local/lib/python3.7/dist-packages (from transformers) (4.64.0)\n",
            "Requirement already satisfied: tokenizers!=0.11.3,<0.13,>=0.11.1 in /usr/local/lib/python3.7/dist-packages (from transformers) (0.12.1)\n",
            "Requirement already satisfied: pyyaml>=5.1 in /usr/local/lib/python3.7/dist-packages (from transformers) (6.0)\n",
            "Requirement already satisfied: filelock in /usr/local/lib/python3.7/dist-packages (from transformers) (3.6.0)\n",
            "Requirement already satisfied: huggingface-hub<1.0,>=0.1.0 in /usr/local/lib/python3.7/dist-packages (from transformers) (0.5.1)\n",
            "Requirement already satisfied: typing-extensions>=3.7.4.3 in /usr/local/lib/python3.7/dist-packages (from huggingface-hub<1.0,>=0.1.0->transformers) (4.1.1)\n",
            "Requirement already satisfied: pyparsing!=3.0.5,>=2.0.2 in /usr/local/lib/python3.7/dist-packages (from packaging>=20.0->transformers) (3.0.8)\n",
            "Requirement already satisfied: zipp>=0.5 in /usr/local/lib/python3.7/dist-packages (from importlib-metadata->transformers) (3.8.0)\n",
            "Requirement already satisfied: urllib3!=1.25.0,!=1.25.1,<1.26,>=1.21.1 in /usr/local/lib/python3.7/dist-packages (from requests->transformers) (1.24.3)\n",
            "Requirement already satisfied: chardet<4,>=3.0.2 in /usr/local/lib/python3.7/dist-packages (from requests->transformers) (3.0.4)\n",
            "Requirement already satisfied: certifi>=2017.4.17 in /usr/local/lib/python3.7/dist-packages (from requests->transformers) (2021.10.8)\n",
            "Requirement already satisfied: idna<3,>=2.5 in /usr/local/lib/python3.7/dist-packages (from requests->transformers) (2.10)\n",
            "Requirement already satisfied: click in /usr/local/lib/python3.7/dist-packages (from sacremoses->transformers) (7.1.2)\n",
            "Requirement already satisfied: six in /usr/local/lib/python3.7/dist-packages (from sacremoses->transformers) (1.15.0)\n",
            "Requirement already satisfied: joblib in /usr/local/lib/python3.7/dist-packages (from sacremoses->transformers) (1.1.0)\n"
          ]
        }
      ]
    },
    {
      "cell_type": "code",
      "source": [
        "# more imports\n",
        "from pickletools import optimize\n",
        "from torch.utils.data import DataLoader, RandomSampler\n",
        "from platform import architecture\n",
        "import time \n",
        "import csv\n",
        "import pandas as pd\n",
        "import torch\n",
        "from transformers import BertTokenizer\n",
        "import training_utils as tru\n",
        "import warnings"
      ],
      "metadata": {
        "id": "WxnPb98tduMR"
      },
      "execution_count": 31,
      "outputs": []
    },
    {
      "cell_type": "code",
      "source": [
        "# ignore warnings\n",
        "warnings.filterwarnings(\"ignore\")"
      ],
      "metadata": {
        "id": "uu-NUfKReVrR"
      },
      "execution_count": 32,
      "outputs": []
    },
    {
      "cell_type": "code",
      "source": [
        "# packaging up all comments into dictionary\n",
        "# match comment id with sentiment labels\n",
        "def get_comments_dic():\n",
        "\n",
        "    comments_file = '/content/drive/My Drive/reddit_mental_health/nyc/comments.csv' #only set in English\n",
        "\n",
        "    with open(comments_file,'r') as csvf:\n",
        "        csv_reader = csv.reader(csvf,delimiter=';')\n",
        "        data = [row for row in csv_reader]\n",
        "\n",
        "    comments_dic = {}\n",
        "\n",
        "    for i,entry in enumerate(data):\n",
        "        if i != 0:\n",
        "            comments_dic[entry[0]] = {\n",
        "                'author':entry[1],\n",
        "                'body':entry[2],\n",
        "                'created':time.strftime('%Y-%m-%d %H:%M:%S', time.localtime(int(entry[3]))),\n",
        "                'parent':entry[4],\n",
        "                'thread':entry[5],\n",
        "                'score':entry[6]\n",
        "            }\n",
        "\n",
        "    print(len(comments_dic))\n",
        "\n",
        "    return comments_dic\n",
        "\n",
        "\n",
        "# matching up comments with sentiments/emotions labels\n",
        "def add_scores(comments_dic):\n",
        "    emotions_file = '/content/drive/My Drive/reddit_mental_health/nyc/emotions.csv'\n",
        "\n",
        "    with open(emotions_file,'r') as csvf:\n",
        "        csv_reader = csv.reader(csvf,delimiter=';')\n",
        "        data = [row for row in csv_reader]\n",
        "\n",
        "    for entry in data:\n",
        "        if entry[0] in comments_dic:\n",
        "            comments_dic[entry[0]]['sad_score'] = entry[6]\n",
        "            comments_dic[entry[0]]['fear_score'] = entry[4]\n",
        "            comments_dic[entry[0]]['sadness_normalize'] = entry[15]\n",
        "\n",
        "\n",
        "    return comments_dic\n",
        "\n",
        "# gets comments and matches them with labels \n",
        "# then puts them into a dataframe\n",
        "def preprocess_data():\n",
        "    comments_dic = get_comments_dic()\n",
        "    comments_dic = add_scores(comments_dic)\n",
        "\n",
        "    text = []\n",
        "    sad_labels = []\n",
        "    fear_labels = []\n",
        "    sad_norm = []\n",
        "\n",
        "    for key, val in comments_dic.items():\n",
        "        text.append(val['body'])\n",
        "  \n",
        "        sad_labels.append(val['sadness'])\n",
        "        fear_labels.append(val['fear_score'])\n",
        "        sad_norm.append(val['sadness_normalize'])\n",
        "\n",
        "    df = [text,sad_labels]\n",
        "    df = pd.DataFrame(df).T\n",
        "    \n",
        "    df.columns = ['text','list']\n",
        "\n",
        "    return df"
      ],
      "metadata": {
        "id": "fpD8DMWXej2v"
      },
      "execution_count": 33,
      "outputs": []
    },
    {
      "cell_type": "code",
      "source": [
        "df = preprocess_data()"
      ],
      "metadata": {
        "colab": {
          "base_uri": "https://localhost:8080/"
        },
        "id": "v7O-P-X-ep1S",
        "outputId": "9171cea3-c2e7-4b19-94ac-cdcb999c9d6d"
      },
      "execution_count": 34,
      "outputs": [
        {
          "output_type": "stream",
          "name": "stdout",
          "text": [
            "95532\n"
          ]
        }
      ]
    },
    {
      "cell_type": "code",
      "source": [
        "# setting hyperparameters\n",
        "device = torch.device(\"cuda\" if torch.cuda.is_available() else \"cpu\")\n",
        "print(device)\n",
        "\n",
        "mdl_name = 'google/bert_uncased_L-2_H-128_A-2'\n",
        "hidden_size = 128\n",
        "\n",
        "hyperparameters = dict(\n",
        "    MAX_LENGTH = 300,\n",
        "    TRAIN_BATCH_SIZE = 100,\n",
        "    VALID_BATCH_SIZE = 50,\n",
        "    epochs = 1,\n",
        "    out_path = './models',\n",
        "    log_freq=10,\n",
        "    learn_rate = 1e-06\n",
        ")\n",
        "\n",
        "# call BERT tokenizer\n",
        "tokenizer = BertTokenizer.from_pretrained('bert-base-uncased')\n",
        "\n",
        "# randomly sampling (like a shuffle)\n",
        "# https://pandas.pydata.org/docs/reference/api/pandas.DataFrame.sample.html\n",
        "df.sample(frac=1)\n",
        "\n",
        "train_size = 0.8 # 80% of data for training 10% val 10% testing\n",
        "train_dataset = df.sample(frac=train_size,random_state=42) # randomly shuffling dataset\n",
        "\n",
        "# half of remaining 20%\n",
        "validation_size = 0.5\n",
        "test_val_dataset = df.drop(train_dataset.index).reset_index(drop=True)\n",
        "validation_dataset = test_val_dataset.sample(frac=validation_size,random_state=42)\n",
        "test_dataset = test_val_dataset.drop(validation_dataset.index).reset_index(drop=True)\n",
        "\n",
        "validation_dataset = validation_dataset.reset_index(drop=True)\n",
        "\n",
        "\n",
        "train_dataset = train_dataset.reset_index(drop=True)\n",
        "\n",
        "# loading data into custom dataset class\n",
        "training_set = tru.CustomDataSet(train_dataset, tokenizer, hyperparameters['MAX_LENGTH'])\n",
        "validation_set = tru.CustomDataSet(validation_dataset, tokenizer, hyperparameters['MAX_LENGTH'])\n",
        "testing_set = tru.CustomDataSet(test_dataset, tokenizer, hyperparameters['MAX_LENGTH'])\n",
        "\n",
        "# parameters for training\n",
        "train_params = {\n",
        "    'batch_size': hyperparameters['TRAIN_BATCH_SIZE'],\n",
        "    'shuffle':True,\n",
        "    'num_workers':0\n",
        "}\n",
        "\n",
        "# parameters for testing\n",
        "validation_params = {\n",
        "    'batch_size': hyperparameters['VALID_BATCH_SIZE'],\n",
        "    'shuffle':True,\n",
        "    'num_workers':0\n",
        "}\n",
        "\n",
        "test_params = {\n",
        "    'batch_size': hyperparameters['VALID_BATCH_SIZE'],\n",
        "    'shuffle':True,\n",
        "    'num_workers':0\n",
        "}\n",
        "\n",
        "\n",
        "training_loader = DataLoader(training_set, **train_params)\n",
        "validation_loader = DataLoader(validation_set, **validation_params)\n",
        "testing_loader = DataLoader(testing_set, **test_params)\n",
        "\n",
        "# print to check if you're using CPU or GPU\n",
        "\n",
        "\n",
        "# da modelz\n",
        "# see here: https://huggingface.co/google/bert_uncased_L-2_H-128_A-2\n",
        "#  https://huggingface.co/google/bert_uncased_L-12_H-768_A-12\n",
        "model = tru.BERTClass(mdl_name,hidden_size)\n",
        "model.to(device)\n",
        "\n",
        "# da optimizer\n",
        "optimizer = torch.optim.Adam(params=model.parameters(),\n",
        "lr=hyperparameters['learn_rate'])"
      ],
      "metadata": {
        "colab": {
          "base_uri": "https://localhost:8080/"
        },
        "id": "6qEsbV0QgqEC",
        "outputId": "89f91990-890c-4079-8ab9-cc0e38b79daa"
      },
      "execution_count": null,
      "outputs": [
        {
          "output_type": "stream",
          "name": "stdout",
          "text": [
            "cuda\n"
          ]
        },
        {
          "output_type": "stream",
          "name": "stderr",
          "text": [
            "Some weights of the model checkpoint at google/bert_uncased_L-2_H-128_A-2 were not used when initializing BertModel: ['cls.predictions.transform.dense.weight', 'cls.predictions.bias', 'cls.predictions.decoder.weight', 'cls.seq_relationship.weight', 'cls.predictions.transform.LayerNorm.bias', 'cls.predictions.transform.dense.bias', 'cls.predictions.decoder.bias', 'cls.seq_relationship.bias', 'cls.predictions.transform.LayerNorm.weight']\n",
            "- This IS expected if you are initializing BertModel from the checkpoint of a model trained on another task or with another architecture (e.g. initializing a BertForSequenceClassification model from a BertForPreTraining model).\n",
            "- This IS NOT expected if you are initializing BertModel from the checkpoint of a model that you expect to be exactly identical (initializing a BertForSequenceClassification model from a BertForSequenceClassification model).\n"
          ]
        }
      ]
    },
    {
      "cell_type": "code",
      "source": [
        "# training routine\n",
        "print(device)\n",
        "for epoch in range(hyperparameters['epochs']):\n",
        "\n",
        "    param_dic = tru.train(epoch,hyperparameters,device,training_loader,validation_loader,model,optimizer)\n",
        "\n",
        "\n",
        "\n",
        "  "
      ],
      "metadata": {
        "colab": {
          "base_uri": "https://localhost:8080/"
        },
        "id": "3JCSoy-EhGuS",
        "outputId": "96803d47-6a84-4184-ed6d-b4ec6f4d13cd"
      },
      "execution_count": 36,
      "outputs": [
        {
          "output_type": "stream",
          "name": "stderr",
          "text": [
            "Truncation was not explicitly activated but `max_length` is provided a specific value, please use `truncation=True` to explicitly truncate examples to max length. Defaulting to 'longest_first' truncation strategy. If you encode pairs of sequences (GLUE-style) with the tokenizer you can select this strategy more precisely by providing a specific strategy to `truncation`.\n"
          ]
        },
        {
          "output_type": "stream",
          "name": "stdout",
          "text": [
            "cuda\n",
            "Checkpoint 0 | F1 : 0.45945945945945943 | Rec : 0.4941860465116279 | Prec : 0.4292929292929293 |\n",
            "Checkpoint 1 | F1 : 0.4350282485875706 | Rec : 0.5 | Prec : 0.385 |\n",
            "Checkpoint 2 | F1 : 0.4117647058823529 | Rec : 0.5 | Prec : 0.35 |\n",
            "Checkpoint 3 | F1 : 0.4444444444444445 | Rec : 0.5 | Prec : 0.4 |\n",
            "Checkpoint 4 | F1 : 0.4565217391304348 | Rec : 0.5 | Prec : 0.42 |\n",
            "Checkpoint 5 | F1 : 0.43820224719101125 | Rec : 0.5 | Prec : 0.39 |\n",
            "Checkpoint 6 | F1 : 0.43820224719101125 | Rec : 0.5 | Prec : 0.39 |\n",
            "Checkpoint 7 | F1 : 0.4318181818181818 | Rec : 0.5 | Prec : 0.38 |\n",
            "Checkpoint 8 | F1 : 0.4318181818181818 | Rec : 0.5 | Prec : 0.38 |\n",
            "Checkpoint 9 | F1 : 0.44751381215469616 | Rec : 0.5 | Prec : 0.405 |\n",
            "Checkpoint 10 | F1 : 0.41860465116279066 | Rec : 0.5 | Prec : 0.36 |\n",
            "Checkpoint 11 | F1 : 0.45054945054945056 | Rec : 0.5 | Prec : 0.41 |\n",
            "Checkpoint 12 | F1 : 0.44134078212290506 | Rec : 0.5 | Prec : 0.395 |\n",
            "Checkpoint 13 | F1 : 0.41860465116279066 | Rec : 0.5 | Prec : 0.36 |\n",
            "Checkpoint 14 | F1 : 0.42196531791907516 | Rec : 0.5 | Prec : 0.365 |\n",
            "Checkpoint 15 | F1 : 0.45054945054945056 | Rec : 0.5 | Prec : 0.41 |\n",
            "Checkpoint 16 | F1 : 0.4011976047904192 | Rec : 0.5 | Prec : 0.335 |\n",
            "Checkpoint 17 | F1 : 0.41860465116279066 | Rec : 0.5 | Prec : 0.36 |\n",
            "Checkpoint 18 | F1 : 0.45355191256830596 | Rec : 0.5 | Prec : 0.415 |\n",
            "Checkpoint 19 | F1 : 0.4565217391304348 | Rec : 0.5 | Prec : 0.42 |\n",
            "Checkpoint 20 | F1 : 0.42528735632183906 | Rec : 0.5 | Prec : 0.37 |\n",
            "Checkpoint 21 | F1 : 0.4444444444444445 | Rec : 0.5 | Prec : 0.4 |\n",
            "Checkpoint 22 | F1 : 0.4318181818181818 | Rec : 0.5 | Prec : 0.38 |\n",
            "Checkpoint 23 | F1 : 0.4318181818181818 | Rec : 0.5 | Prec : 0.38 |\n",
            "Checkpoint 24 | F1 : 0.44751381215469616 | Rec : 0.5 | Prec : 0.405 |\n",
            "Checkpoint 25 | F1 : 0.45355191256830596 | Rec : 0.5 | Prec : 0.415 |\n",
            "Checkpoint 26 | F1 : 0.42857142857142855 | Rec : 0.5 | Prec : 0.375 |\n",
            "Checkpoint 27 | F1 : 0.44134078212290506 | Rec : 0.5 | Prec : 0.395 |\n",
            "Checkpoint 28 | F1 : 0.44134078212290506 | Rec : 0.5 | Prec : 0.395 |\n",
            "Checkpoint 29 | F1 : 0.45054945054945056 | Rec : 0.5 | Prec : 0.41 |\n",
            "Checkpoint 30 | F1 : 0.44134078212290506 | Rec : 0.5 | Prec : 0.395 |\n",
            "Checkpoint 31 | F1 : 0.4318181818181818 | Rec : 0.5 | Prec : 0.38 |\n",
            "Checkpoint 32 | F1 : 0.45054945054945056 | Rec : 0.5 | Prec : 0.41 |\n",
            "Checkpoint 33 | F1 : 0.4152046783625731 | Rec : 0.5 | Prec : 0.355 |\n",
            "Checkpoint 34 | F1 : 0.42528735632183906 | Rec : 0.5 | Prec : 0.37 |\n",
            "Checkpoint 35 | F1 : 0.45054945054945056 | Rec : 0.5 | Prec : 0.41 |\n",
            "Checkpoint 36 | F1 : 0.42196531791907516 | Rec : 0.5 | Prec : 0.365 |\n",
            "Checkpoint 37 | F1 : 0.4742857142857142 | Rec : 0.5208333333333334 | Prec : 0.8838383838383839 |\n",
            "Checkpoint 38 | F1 : 0.42528735632183906 | Rec : 0.5 | Prec : 0.37 |\n",
            "Checkpoint 39 | F1 : 0.4318181818181818 | Rec : 0.5 | Prec : 0.38 |\n",
            "Checkpoint 40 | F1 : 0.45355191256830596 | Rec : 0.5 | Prec : 0.415 |\n",
            "Checkpoint 41 | F1 : 0.4285714285714286 | Rec : 0.5076888285843509 | Prec : 0.5867346938775511 |\n",
            "Checkpoint 42 | F1 : 0.45553539019963707 | Rec : 0.5178571428571429 | Prec : 0.8636363636363636 |\n",
            "Checkpoint 43 | F1 : 0.43820224719101125 | Rec : 0.5 | Prec : 0.39 |\n",
            "Checkpoint 44 | F1 : 0.43820224719101125 | Rec : 0.5 | Prec : 0.39 |\n",
            "Checkpoint 45 | F1 : 0.5178399228543876 | Rec : 0.53125 | Prec : 0.9242424242424243 |\n",
            "Checkpoint 46 | F1 : 0.44751381215469616 | Rec : 0.5 | Prec : 0.405 |\n",
            "Checkpoint 47 | F1 : 0.42528735632183906 | Rec : 0.5 | Prec : 0.37 |\n",
            "Checkpoint 48 | F1 : 0.441340782122905 | Rec : 0.49375 | Prec : 0.398989898989899 |\n",
            "Checkpoint 49 | F1 : 0.495866102036701 | Rec : 0.537037037037037 | Prec : 0.8724489795918368 |\n",
            "Checkpoint 50 | F1 : 0.45098039215686275 | Rec : 0.5109126984126985 | Prec : 0.6122448979591837 |\n",
            "Checkpoint 51 | F1 : 0.4565217391304348 | Rec : 0.5 | Prec : 0.42 |\n",
            "Checkpoint 52 | F1 : 0.4509803921568627 | Rec : 0.5172413793103449 | Prec : 0.8585858585858586 |\n",
            "Checkpoint 53 | F1 : 0.42528735632183906 | Rec : 0.5 | Prec : 0.37 |\n",
            "Checkpoint 54 | F1 : 0.4892747701736466 | Rec : 0.5238095238095238 | Prec : 0.898989898989899 |\n",
            "Checkpoint 55 | F1 : 0.4647827017769215 | Rec : 0.5133333333333333 | Prec : 0.6275510204081632 |\n",
            "Checkpoint 56 | F1 : 0.4444444444444445 | Rec : 0.5 | Prec : 0.4 |\n",
            "Checkpoint 57 | F1 : 0.43820224719101125 | Rec : 0.5 | Prec : 0.39 |\n",
            "Checkpoint 58 | F1 : 0.5403472931562819 | Rec : 0.5464587394411955 | Prec : 0.7457044673539519 |\n",
            "Checkpoint 59 | F1 : 0.44134078212290506 | Rec : 0.5 | Prec : 0.395 |\n",
            "Checkpoint 60 | F1 : 0.48018193632228723 | Rec : 0.5428571428571428 | Prec : 0.8350515463917525 |\n",
            "Checkpoint 61 | F1 : 0.49019607843137253 | Rec : 0.5301877219685438 | Prec : 0.70446735395189 |\n",
            "Checkpoint 62 | F1 : 0.42857142857142855 | Rec : 0.5 | Prec : 0.375 |\n",
            "Checkpoint 63 | F1 : 0.4318181818181818 | Rec : 0.5 | Prec : 0.38 |\n",
            "Checkpoint 64 | F1 : 0.5555555555555556 | Rec : 0.5555555555555556 | Prec : 0.9183673469387755 |\n",
            "Checkpoint 65 | F1 : 0.43820224719101125 | Rec : 0.5 | Prec : 0.39 |\n",
            "Checkpoint 66 | F1 : 0.41520467836257313 | Rec : 0.4930555555555556 | Prec : 0.35858585858585856 |\n",
            "Checkpoint 67 | F1 : 0.47916666666666674 | Rec : 0.5217391304347826 | Prec : 0.8888888888888888 |\n",
            "Checkpoint 68 | F1 : 0.49019607843137253 | Rec : 0.5301877219685438 | Prec : 0.70446735395189 |\n",
            "Checkpoint 69 | F1 : 0.4444444444444445 | Rec : 0.49382716049382713 | Prec : 0.40404040404040403 |\n",
            "Checkpoint 70 | F1 : 0.4647827017769215 | Rec : 0.5192307692307693 | Prec : 0.8737373737373737 |\n",
            "Checkpoint 71 | F1 : 0.4565217391304348 | Rec : 0.5 | Prec : 0.42 |\n",
            "Checkpoint 72 | F1 : 0.4892747701736466 | Rec : 0.5238095238095238 | Prec : 0.898989898989899 |\n",
            "Checkpoint 73 | F1 : 0.5431893687707642 | Rec : 0.56 | Prec : 0.8865979381443299 |\n",
            "Checkpoint 74 | F1 : 0.5463618218109235 | Rec : 0.5689655172413793 | Prec : 0.8697916666666667 |\n",
            "Checkpoint 75 | F1 : 0.4945464219207236 | Rec : 0.525 | Prec : 0.904040404040404 |\n",
            "Checkpoint 76 | F1 : 0.52 | Rec : 0.5434782608695652 | Prec : 0.8928571428571428 |\n"
          ]
        }
      ]
    },
    {
      "cell_type": "code",
      "source": [
        "import json\n",
        "\n",
        "# save training metrics to file\n",
        "x = param_dic['train']['losses']\n",
        "losses = [l.cpu().detach().numpy().item(0) for l in x]\n",
        "param_dic['train']['losses'] = losses\n",
        "\n",
        "\n",
        "x = param_dic['validation']['losses']\n",
        "losses = [l.cpu().detach().numpy().item(0) for l in x]\n",
        "param_dic['validation']['losses'] = losses\n",
        "\n",
        "\n",
        "mdl_metrics = json.dumps(param_dic)\n",
        "\n",
        "with open('/content/drive/My Drive/reddit_mental_health/tiny_bert_metrics.txt','w') as jfile:\n",
        "    jfile.write(mdl_metrics)"
      ],
      "metadata": {
        "id": "8KlH0LvJsvSo"
      },
      "execution_count": 14,
      "outputs": []
    },
    {
      "cell_type": "code",
      "source": [
        "# save as json\n",
        "with open('/content/drive/My Drive/reddit_mental_health/tiny_bert_metrics.json','w') as jfile:\n",
        "    jfile.write(mdl_metrics)"
      ],
      "metadata": {
        "id": "neFANYgLynih"
      },
      "execution_count": 15,
      "outputs": []
    },
    {
      "cell_type": "code",
      "source": [
        "# check model outputs\n",
        "import matplotlib.pyplot as plt\n",
        "import numpy as np\n",
        "\n",
        "\n",
        "p = param_dic['train']['losses']\n",
        "v = param_dic['validation']['losses']\n",
        "\n",
        "\n",
        "\n",
        "x = np.array([i for i in range(len(p))])\n",
        "y = np.array([e for e in p ])\n",
        "y1 = np.array([e for e in v ])\n",
        "\n",
        "\n",
        "plt.plot(x,y)\n",
        "plt.plot(x,y1)\n",
        "\n",
        "plt.xlabel('Log Step')\n",
        "plt.ylabel('Losses')\n",
        "plt.legend(['Training','Validation'])"
      ],
      "metadata": {
        "colab": {
          "base_uri": "https://localhost:8080/",
          "height": 297
        },
        "id": "lvdTgwH-5qoz",
        "outputId": "06dba425-c557-4e46-8f46-91ed22306c8c"
      },
      "execution_count": 18,
      "outputs": [
        {
          "output_type": "execute_result",
          "data": {
            "text/plain": [
              "<matplotlib.legend.Legend at 0x7f96f0900c50>"
            ]
          },
          "metadata": {},
          "execution_count": 18
        },
        {
          "output_type": "display_data",
          "data": {
            "text/plain": [
              "<Figure size 432x288 with 1 Axes>"
            ],
            "image/png": "[encoded data removed]"
          },
          "metadata": {
            "needs_background": "light"
          }
        }
      ]
    },
    {
      "cell_type": "code",
      "source": [
        "# save model\n",
        "import torch\n",
        "savepath = '/content/drive/My Drive/reddit_mental_health/tinybert.pth'\n",
        "\n",
        "torch.save(model.state_dict(),savepath)"
      ],
      "metadata": {
        "id": "zeLUoWPn43UQ"
      },
      "execution_count": 17,
      "outputs": []
    },
    {
      "cell_type": "code",
      "source": [
        "# model evaluation functions\n",
        "from sklearn import metrics\n",
        "\n",
        "def inference(model,test_loader,device):\n",
        "\n",
        "  model.eval()\n",
        "  preds = []\n",
        "\n",
        "\n",
        "  with torch.no_grad():\n",
        "    for _, data in enumerate(test_loader,0):\n",
        "        ids = data['ids'].to(device,dtype=torch.long)\n",
        "        mask = data['mask'].to(device,dtype=torch.long)\n",
        "        token_type_ids = data['token_type_ids'].to(device,dtype=torch.long)\n",
        "        targets = data['targets'].to(device,dtype=torch.float)\n",
        "        s = targets.size(dim=0)\n",
        "        targets = targets.resize(s,1)\n",
        "        outputs = model(ids,mask,token_type_ids)\n",
        "        o = torch.sigmoid(outputs).float().cpu().detach().numpy()\n",
        "        for pred in o:\n",
        "          preds.append(pred[0])\n",
        "\n",
        "\n",
        "    return preds\n",
        "\n",
        "\n",
        "def evaluate_bert_model(filename,test_loader,labels,device,mdl_name,hidden_size):\n",
        "  bert_model = tru.BERTClass(mdl_name,hidden_size)\n",
        "  bert_model.load_state_dict(torch.load(filename,map_location=device))\n",
        "  bert_model.to(device)\n",
        "  preds = inference(bert_model,test_loader,device)\n",
        "  prec,rec,thresh = metrics.precision_recall_curve(labels,preds)\n",
        "\n",
        "  auc = metrics.auc(rec,prec)\n",
        "\n",
        "  data = [thresh,prec,rec]\n",
        "\n",
        "  fname = filename.replace('.pth','_prec_rec.csv')\n",
        "\n",
        "  with open(fname,'w') as csvf:\n",
        "    writer = csv.writer(csvf,delimiter=',')\n",
        "    writer.writerows(data)\n",
        "  \n",
        "  eval_dic = {\n",
        "      'Predictions':preds,\n",
        "      'Precision':prec,\n",
        "      'Recall':rec,\n",
        "      'Threshold':thresh,\n",
        "      'AUC':auc\n",
        "  }\n",
        "\n",
        "  return eval_dic\n"
      ],
      "metadata": {
        "id": "SPp9ijvn8Amj"
      },
      "execution_count": 15,
      "outputs": []
    },
    {
      "cell_type": "code",
      "source": [
        "# evaluating the models\n",
        "name_list = ['/content/drive/My Drive/reddit_mental_health/tiny_bert.pth']\n",
        "model_dic = {}\n",
        "labels = []\n",
        "labs = testing_loader.dataset.targets.values\n",
        "\n",
        "for l in labs:\n",
        "  if l > 0.5:\n",
        "    labels.append(1)\n",
        "  else:\n",
        "    labels.append(0)\n",
        "\n",
        "print(labels)\n",
        "\n",
        "for i, name in enumerate(name_list):\n",
        "  eval_dic = evaluate_bert_model(name,testing_loader,labels,device,mdl_name,hidden_size)\n",
        "  model_dic[name] = eval_dic"
      ],
      "metadata": {
        "colab": {
          "base_uri": "https://localhost:8080/"
        },
        "id": "nyKwPopv_lni",
        "outputId": "bf0b1ad8-2465-4f2b-9d57-f35ea339df04"
      },
      "execution_count": 16,
      "outputs": [
        {
          "output_type": "stream",
          "name": "stdout",
          "text": [
            "[0, 0, 0, 0, 0, 0, 0, 0, 0, 1, 0, 0, 0, 0, 1, 1, 0, 0, 1, 1, 0, 0, 0, 0, 1, 1, 0, 0, 0, 0, 1, 1, 0, 0, 1, 1, 0, 0, 1, 1, 0, 0, 0, 1, 1, 0, 0, 0, 0, 0, 0, 1, 0, 0, 0, 0, 0, 0, 1, 0, 0, 0, 0, 1, 1, 0, 0, 0, 0, 0, 0, 1, 1, 0, 0, 1, 0, 0, 0, 0, 0, 0, 0, 0, 0, 0, 0, 0, 1, 0, 1, 1, 0, 0, 0, 1, 0, 0, 0, 0, 1, 0, 0, 1, 0, 0, 1, 0, 0, 0, 0, 0, 0, 0, 0, 0, 0, 0, 0, 0, 0, 0, 0, 0, 0, 0, 0, 0, 0, 0, 0, 1, 0, 0, 0, 0, 0, 0, 0, 1, 0, 0, 0, 0, 1, 0, 1, 0, 0, 0, 1, 0, 0, 0, 0, 0, 0, 0, 0, 0, 0, 0, 0, 0, 0, 1, 0, 1, 0, 1, 0, 1, 0, 1, 0, 0, 0, 1, 0, 0, 0, 0, 0, 0, 1, 0, 0, 0, 0, 1, 0, 0, 0, 0, 0, 0, 0, 0, 0, 0, 0, 1, 0, 1, 0, 0, 0, 0, 1, 0, 0, 0, 1, 0, 0, 0, 0, 0, 0, 1, 0, 0, 1, 0, 0, 0, 0, 0, 1, 1, 1, 0, 0, 1, 1, 0, 0, 1, 0, 0, 0, 0, 0, 0, 1, 0, 0, 0, 0, 0, 0, 1, 0, 0, 0, 0, 1, 0, 0, 0, 0, 1, 0, 1, 1, 0, 0, 1, 0, 0, 0, 0, 0, 1, 1, 1, 0, 0, 1, 0, 0, 0, 0, 1, 0, 0, 0, 0, 0, 0, 0, 0, 0, 1, 1, 0, 0, 0, 0, 0, 0, 0, 1, 0, 0, 0, 0, 1, 0, 0, 0, 0, 0, 0, 0, 1, 0, 1, 0, 0, 0, 0, 0, 1, 0, 0, 0, 1, 0, 0, 0, 1, 1, 0, 0, 0, 0, 0, 0, 0, 1, 0, 0, 0, 0, 0, 0, 0, 0, 0, 0, 0, 0, 1, 0, 0, 0, 1, 0, 0, 0, 0, 0, 0, 1, 0, 0, 0, 0, 0, 0, 0, 0, 0, 0, 1, 0, 0, 1, 0, 0, 0, 0, 1, 0, 0, 0, 0, 0, 0, 0, 0, 0, 0, 1, 0, 0, 1, 1, 0, 0, 0, 0, 0, 0, 0, 1, 1, 1, 0, 0, 0, 0, 0, 1, 0, 0, 0, 0, 0, 1, 0, 0, 1, 1, 1, 0, 0, 0, 0, 1, 0, 0, 0, 1, 0, 0, 0, 1, 1, 0, 1, 1, 0, 0, 1, 0, 0, 0, 0, 0, 0, 0, 0, 0, 0, 0, 0, 0, 0, 1, 0, 1, 0, 0, 0, 0, 0, 0, 1, 0, 0, 0, 0, 0, 0, 0, 0, 0, 0, 0, 1, 0, 0, 1, 0, 0, 0, 1, 0, 1, 1, 0, 1, 1, 0, 0, 0, 1, 0, 0, 0, 0, 0, 0, 0, 0, 0, 0, 0, 1, 0, 1, 0, 1, 0, 0, 1, 0, 0, 0, 0, 1, 1, 0, 1, 0, 1, 1, 0, 0, 0, 0, 0, 1, 1, 0, 1, 0, 0, 0, 0, 0, 0, 1, 0, 0, 1, 1, 0, 0, 0, 1, 0, 0, 0, 0, 0, 0, 0, 0, 0, 1, 1, 0, 0, 0, 1, 0, 0, 0, 0, 0, 0, 0, 0, 0, 0, 1, 0, 0, 0, 1, 1, 1, 0, 0, 1, 0, 1, 1, 0, 1, 0, 0, 1, 1, 0, 0, 0, 0, 0, 0, 0, 0, 0, 0, 0, 0, 0, 1, 0, 1, 0, 0, 0, 0, 0, 1, 0, 0, 0, 0, 1, 0, 1, 0, 1, 1, 0, 0, 0, 0, 1, 0, 0, 0, 1, 0, 0, 0, 0, 1, 1, 0, 0, 0, 1, 0, 0, 1, 0, 1, 0, 1, 0, 0, 0, 0, 0, 1, 0, 1, 1, 0, 0, 0, 0, 1, 0, 0, 0, 0, 0, 1, 0, 0, 0, 0, 0, 0, 0, 1, 1, 0, 1, 0, 1, 0, 0, 0, 1, 0, 0, 1, 0, 0, 0, 1, 1, 0, 0, 0, 1, 0, 0, 0, 0, 0, 0, 0, 0, 0, 0, 0, 0, 0, 0, 1, 0, 0, 0, 0, 0, 1, 0, 0, 0, 0, 0, 0, 0, 1, 0, 0, 1, 0, 0, 0, 0, 0, 0, 0, 0, 1, 1, 1, 1, 0, 0, 1, 0, 1, 0, 1, 1, 0, 1, 0, 0, 1, 0, 0, 1, 0, 0, 0, 0, 1, 1, 1, 0, 0, 0, 0, 0, 0, 0, 1, 0, 0, 0, 0, 0, 0, 1, 0, 1, 1, 0, 0, 0, 0, 0, 0, 0, 0, 0, 1, 1, 0, 0, 0, 0, 0, 0, 0, 1, 0, 0, 0, 1, 0, 0, 0, 1, 0, 1, 0, 1, 1, 1, 1, 0, 0, 0, 0, 0, 0, 0, 0, 0, 0, 0, 1, 1, 1, 0, 0, 0, 1, 0, 0, 0, 0, 1, 0, 0, 0, 0, 0, 0, 0, 1, 0, 0, 0, 0, 0, 0, 1, 0, 0, 0, 0, 1, 1, 0, 0, 1, 1, 0, 0, 0, 0, 0, 0, 0, 0, 1, 0, 0, 0, 0, 0, 1, 0, 1, 0, 0, 0, 0, 1, 0, 0, 0, 1, 0, 0, 0, 0, 0, 0, 0, 0, 0, 0, 0, 1, 0, 0, 0, 0, 0, 1, 0, 0, 0, 0, 0, 0, 0, 0, 0, 0, 0, 0, 0, 0, 0, 0, 0, 0, 0, 0, 0, 0, 0, 1, 1, 0, 0, 0, 1, 0, 0, 0, 0, 0, 0, 0, 1, 0, 0, 0, 0, 0, 0, 1, 0, 0, 0, 0, 0, 0, 0, 0, 1, 0, 0, 1, 1, 0, 0, 0, 0, 1, 0, 0, 0, 0, 1, 0, 0, 1, 1, 0, 0, 1, 0, 0, 0, 0, 0, 0, 0, 0, 1, 0, 0, 0, 1, 1, 0, 0, 0, 0, 0, 1, 0, 0, 1, 0, 0, 1, 1, 0, 0, 0, 0, 0, 1, 0, 0, 1, 0, 0, 0, 0, 1, 0, 1, 1, 0, 0, 0, 0, 1, 0, 0, 0, 0, 0, 1, 0, 0, 0, 1, 0, 0, 0, 1, 0, 0, 0, 0, 0, 0, 0, 0, 0, 0, 0, 0, 0, 1, 0, 0, 0, 0, 0, 0, 1, 0, 1, 0, 0, 0, 0, 0, 1, 1, 0, 0, 1, 0, 1, 0, 1, 0, 0, 0, 1, 0, 1, 0, 0, 0, 0, 0, 0, 0, 0, 0, 0, 0, 0, 1, 0, 0, 1, 0, 1, 1, 0, 0, 0, 0, 1, 1, 1, 0, 1, 0, 0, 0, 0, 0, 0, 0, 0, 0, 0, 1, 0, 0, 0, 0, 0, 0, 0, 0, 0, 0, 0, 0, 0, 0, 1, 0, 0, 0, 0, 0, 1, 0, 0, 0, 0, 0, 0, 1, 0, 0, 1, 1, 0, 0, 0, 1, 1, 0, 0, 0, 0, 0, 0, 1, 0, 0, 0, 0, 0, 1, 1, 0, 0, 1, 0, 0, 0, 0, 0, 0, 0, 0, 0, 0, 0, 0, 0, 0, 0, 0, 1, 1, 0, 0, 0, 1, 0, 1, 1, 0, 0, 0, 0, 0, 0, 0, 0, 0, 0, 0, 0, 0, 0, 0, 1, 0, 0, 0, 0, 0, 0, 0, 0, 0, 0, 0, 1, 1, 0, 0, 0, 0, 0, 1, 1, 0, 0, 0, 0, 0, 0, 1, 0, 0, 0, 0, 0, 0, 1, 1, 0, 1, 0, 0, 0, 0, 0, 0, 0, 0, 0, 0, 0, 1, 0, 0, 0, 0, 0, 0, 0, 0, 0, 1, 0, 1, 0, 0, 0, 0, 0, 0, 0, 0, 0, 1, 1, 0, 0, 0, 1, 0, 0, 0, 0, 0, 1, 1, 0, 1, 0, 0, 0, 0, 0, 0, 1, 0, 0, 0, 0, 1, 0, 0, 1, 1, 0, 0, 0, 0, 1, 0, 0, 0, 0, 0, 0, 0, 0, 0, 0, 0, 0, 0, 0, 0, 0, 0, 0, 0, 1, 0, 0, 0, 0, 0, 1, 0, 0, 0, 0, 0, 0, 0, 0, 0, 0, 0, 0, 0, 0, 0, 0, 0, 1, 1, 0, 0, 1, 0, 0, 0, 1, 0, 0, 0, 0, 0, 0, 1, 0, 0, 0, 0, 0, 0, 1, 0, 0, 1, 0, 0, 0, 0, 1, 0, 0, 0, 0, 0, 0, 1, 0, 0, 0, 0, 1, 0, 0, 0, 1, 0, 0, 0, 0, 1, 0, 0, 0, 1, 1, 0, 1, 1, 0, 0, 0, 0, 1, 0, 0, 0, 1, 0, 1, 0, 0, 0, 1, 0, 0, 0, 1, 0, 0, 1, 0, 0, 1, 0, 0, 0, 0, 0, 0, 0, 0, 0, 0, 0, 0, 0, 1, 1, 0, 0, 0, 1, 0, 0, 0, 1, 0, 0, 0, 1, 0, 0, 0, 1, 1, 0, 0, 1, 0, 1, 0, 0, 1, 0, 0, 0, 0, 0, 1, 1, 0, 1, 0, 0, 1, 0, 1, 0, 0, 1, 0, 0, 0, 0, 0, 0, 1, 0, 0, 0, 1, 0, 1, 0, 0, 1, 0, 0, 0, 0, 0, 0, 0, 0, 0, 0, 0, 1, 1, 0, 1, 0, 0, 1, 0, 1, 1, 0, 0, 0, 0, 0, 0, 1, 1, 0, 1, 0, 1, 0, 1, 0, 0, 0, 0, 0, 1, 0, 0, 0, 0, 0, 0, 0, 0, 0, 0, 0, 0, 0, 0, 0, 0, 1, 0, 1, 0, 0, 0, 0, 0, 0, 0, 0, 0, 0, 1, 0, 0, 0, 0, 1, 0, 0, 0, 0, 0, 0, 1, 0, 0, 0, 0, 0, 0, 0, 0, 1, 0, 0, 0, 0, 0, 1, 1, 0, 0, 0, 0, 0, 1, 0, 1, 1, 0, 1, 0, 0, 0, 0, 0, 0, 0, 0, 0, 0, 0, 0, 0, 0, 0, 0, 0, 0, 0, 0, 0, 0, 1, 0, 1, 0, 0, 0, 0, 0, 0, 0, 0, 0, 0, 0, 0, 0, 0, 0, 0, 0, 0, 1, 0, 0, 1, 0, 0, 0, 1, 0, 0, 0, 0, 0, 1, 1, 1, 0, 0, 1, 0, 1, 1, 0, 1, 0, 0, 0, 0, 0, 1, 0, 0, 0, 1, 0, 1, 0, 0, 0, 0, 0, 0, 1, 1, 0, 0, 0, 0, 0, 1, 0, 0, 0, 0, 0, 0, 0, 0, 0, 0, 0, 0, 0, 1, 1, 0, 0, 1, 1, 0, 0, 1, 0, 0, 0, 0, 1, 1, 0, 1, 0, 0, 1, 0, 0, 0, 0, 0, 0, 1, 0, 0, 0, 1, 0, 0, 0, 0, 0, 0, 0, 1, 0, 0, 1, 0, 0, 0, 0, 1, 0, 1, 0, 0, 0, 0, 0, 0, 0, 0, 0, 1, 0, 0, 0, 0, 0, 0, 0, 0, 0, 0, 0, 0, 0, 0, 0, 0, 1, 1, 0, 0, 0, 1, 0, 0, 0, 0, 0, 0, 1, 0, 0, 0, 1, 0, 0, 0, 1, 0, 0, 1, 0, 0, 0, 0, 0, 1, 0, 0, 0, 0, 0, 0, 0, 0, 1, 1, 0, 0, 0, 0, 0, 1, 0, 1, 1, 1, 1, 0, 1, 0, 1, 0, 0, 0, 0, 0, 1, 0, 1, 0, 0, 0, 0, 0, 0, 0, 1, 0, 0, 0, 0, 0, 1, 0, 1, 1, 0, 0, 0, 1, 0, 0, 0, 0, 0, 0, 0, 0, 0, 0, 0, 1, 0, 0, 0, 0, 0, 0, 0, 0, 1, 1, 0, 1, 0, 1, 0, 0, 0, 1, 0, 1, 0, 0, 0, 0, 0, 0, 1, 0, 0, 0, 0, 0, 1, 0, 0, 0, 0, 0, 0, 1, 1, 0, 0, 0, 1, 0, 0, 0, 0, 0, 1, 0, 0, 0, 1, 0, 0, 0, 0, 0, 0, 0, 0, 0, 0, 0, 1, 0, 0, 1, 1, 1, 0, 1, 1, 0, 0, 0, 0, 0, 1, 0, 0, 0, 0, 0, 1, 1, 0, 1, 0, 0, 1, 1, 0, 1, 0, 1, 1, 0, 0, 1, 0, 1, 0, 1, 0, 0, 1, 0, 0, 1, 1, 0, 0, 0, 0, 0, 1, 0, 0, 0, 0, 1, 0, 1, 0, 0, 0, 1, 0, 0, 0, 1, 0, 1, 0, 0, 1, 0, 0, 0, 1, 0, 0, 0, 0, 0, 1, 0, 0, 0, 0, 0, 0, 0, 0, 0, 0, 0, 0, 0, 0, 0, 0, 0, 0, 0, 1, 0, 0, 0, 0, 0, 0, 0, 0, 1, 1, 1, 0, 0, 1, 1, 1, 0, 0, 0, 0, 0, 0, 0, 0, 0, 0, 0, 0, 0, 1, 0, 0, 0, 0, 0, 0, 0, 0, 1, 0, 0, 0, 0, 0, 0, 0, 0, 1, 0, 0, 0, 0, 0, 0, 1, 0, 0, 0, 1, 0, 1, 1, 0, 0, 0, 0, 0, 0, 0, 1, 0, 0, 0, 0, 0, 0, 0, 1, 0, 0, 0, 0, 0, 0, 0, 1, 0, 0, 1, 0, 0, 1, 0, 0, 1, 0, 0, 0, 0, 0, 0, 1, 0, 0, 0, 0, 0, 0, 1, 0, 0, 0, 0, 0, 0, 1, 0, 0, 0, 0, 0, 0, 0, 0, 1, 0, 0, 1, 0, 0, 0, 0, 0, 0, 1, 0, 0, 0, 0, 0, 0, 0, 0, 1, 0, 0, 0, 0, 1, 1, 0, 0, 0, 0, 1, 0, 0, 0, 0, 0, 1, 0, 0, 0, 0, 0, 1, 0, 0, 0, 1, 0, 1, 0, 0, 0, 0, 0, 0, 0, 1, 0, 1, 0, 0, 0, 1, 1, 0, 0, 1, 0, 0, 0, 0, 0, 0, 0, 0, 1, 0, 1, 0, 0, 0, 0, 0, 0, 1, 0, 0, 0, 0, 0, 0, 0, 0, 0, 0, 0, 0, 1, 1, 1, 0, 1, 0, 0, 0, 1, 0, 0, 0, 0, 0, 1, 0, 0, 0, 0, 0, 0, 1, 0, 0, 0, 0, 0, 0, 0, 1, 1, 0, 0, 0, 0, 0, 0, 0, 0, 0, 0, 0, 0, 0, 0, 0, 0, 0, 0, 0, 1, 0, 0, 0, 0, 1, 0, 0, 0, 0, 1, 1, 0, 0, 1, 0, 1, 0, 0, 0, 0, 0, 0, 0, 0, 0, 0, 0, 1, 0, 0, 0, 1, 0, 0, 0, 0, 0, 0, 0, 0, 0, 0, 0, 0, 0, 0, 0, 0, 1, 1, 0, 0, 0, 0, 0, 1, 0, 0, 1, 0, 1, 1, 1, 0, 0, 0, 0, 1, 0, 1, 0, 0, 0, 0, 1, 0, 0, 0, 0, 1, 1, 0, 0, 0, 0, 0, 0, 0, 0, 0, 0, 0, 0, 0, 1, 0, 0, 0, 0, 1, 0, 0, 0, 0, 0, 1, 1, 0, 0, 0, 0, 0, 0, 0, 1, 0, 1, 0, 1, 1, 0, 1, 0, 1, 0, 1, 0, 0, 0, 1, 0, 0, 0, 0, 1, 0, 0, 0, 0, 0, 0, 0, 0, 0, 0, 0, 1, 0, 1, 0, 0, 0, 1, 0, 0, 0, 0, 0, 0, 0, 0, 1, 0, 0, 1, 0, 0, 1, 1, 1, 1, 1, 0, 0, 0, 1, 0, 1, 0, 1, 0, 0, 0, 0, 0, 0, 1, 0, 0, 0, 1, 0, 0, 0, 0, 0, 0, 0, 1, 0, 0, 0, 0, 0, 1, 1, 0, 0, 0, 0, 0, 0, 0, 0, 1, 0, 1, 0, 1, 0, 0, 1, 1, 0, 0, 0, 1, 0, 0, 0, 0, 0, 0, 0, 1, 0, 0, 0, 0, 0, 0, 0, 0, 0, 0, 0, 0, 0, 1, 1, 1, 0, 1, 1, 0, 0, 0, 0, 0, 0, 0, 0, 0, 0, 0, 0, 1, 0, 0, 0, 0, 0, 0, 0, 0, 0, 1, 0, 1, 0, 0, 0, 0, 0, 0, 0, 1, 0, 0, 0, 0, 0, 1, 0, 0, 0, 0, 1, 0, 0, 0, 0, 0, 0, 0, 1, 0, 1, 0, 0, 1, 0, 0, 0, 1, 0, 0, 1, 0, 0, 1, 0, 1, 1, 0, 0, 1, 0, 1, 0, 0, 0, 0, 0, 0, 1, 0, 0, 1, 1, 0, 0, 1, 0, 0, 0, 0, 0, 0, 0, 0, 0, 0, 1, 0, 0, 0, 0, 0, 0, 0, 0, 0, 0, 0, 0, 0, 1, 0, 0, 1, 1, 1, 0, 1, 0, 1, 0, 0, 0, 0, 0, 0, 0, 0, 1, 1, 0, 1, 0, 0, 1, 0, 0, 1, 1, 0, 0, 0, 0, 0, 0, 0, 0, 0, 0, 0, 1, 1, 1, 0, 0, 0, 0, 1, 0, 0, 0, 0, 1, 0, 1, 0, 0, 0, 0, 0, 0, 0, 0, 0, 1, 0, 1, 0, 0, 0, 0, 0, 0, 0, 0, 0, 0, 0, 0, 1, 0, 0, 1, 1, 0, 0, 1, 0, 0, 0, 0, 0, 1, 0, 0, 1, 0, 1, 0, 0, 0, 1, 1, 0, 0, 0, 1, 0, 0, 0, 1, 0, 0, 0, 0, 1, 0, 0, 1, 0, 0, 0, 1, 0, 0, 0, 0, 1, 0, 0, 1, 0, 1, 0, 0, 0, 1, 0, 0, 0, 0, 0, 1, 0, 0, 1, 1, 0, 0, 0, 0, 0, 0, 1, 0, 1, 1, 0, 0, 1, 1, 1, 0, 0, 0, 0, 0, 0, 0, 1, 0, 1, 0, 0, 0, 0, 1, 0, 0, 1, 0, 0, 1, 0, 0, 0, 0, 1, 1, 0, 0, 0, 1, 0, 0, 0, 0, 0, 1, 0, 0, 0, 0, 0, 1, 1, 0, 0, 0, 0, 1, 1, 0, 0, 1, 0, 0, 0, 1, 1, 0, 0, 0, 0, 1, 0, 0, 0, 0, 0, 0, 0, 0, 0, 0, 0, 0, 0, 1, 0, 0, 0, 0, 0, 0, 0, 0, 0, 0, 0, 1, 0, 0, 0, 0, 0, 0, 0, 1, 0, 0, 0, 1, 0, 0, 0, 0, 0, 0, 1, 0, 0, 1, 0, 0, 0, 0, 0, 0, 1, 0, 1, 0, 1, 0, 0, 0, 1, 1, 1, 0, 1, 1, 0, 0, 1, 0, 0, 0, 1, 1, 0, 0, 1, 0, 1, 0, 1, 0, 0, 0, 0, 0, 0, 0, 1, 0, 0, 1, 1, 0, 1, 1, 1, 0, 0, 0, 0, 0, 0, 0, 1, 0, 1, 1, 0, 0, 0, 1, 0, 1, 1, 1, 1, 1, 0, 0, 0, 0, 0, 0, 0, 1, 0, 0, 0, 0, 1, 1, 0, 0, 1, 0, 0, 0, 0, 0, 0, 0, 0, 0, 0, 0, 1, 0, 0, 0, 0, 0, 0, 0, 0, 1, 0, 0, 0, 0, 0, 0, 1, 0, 0, 0, 0, 1, 0, 0, 0, 0, 0, 1, 0, 0, 0, 0, 0, 1, 0, 1, 1, 0, 0, 0, 1, 0, 0, 0, 0, 0, 0, 1, 1, 0, 1, 1, 0, 0, 0, 0, 0, 0, 0, 0, 1, 0, 0, 1, 0, 1, 0, 0, 1, 0, 1, 0, 1, 0, 0, 0, 0, 0, 0, 0, 0, 1, 0, 0, 1, 1, 1, 1, 0, 1, 0, 1, 0, 1, 0, 0, 0, 0, 0, 0, 1, 1, 1, 0, 0, 0, 0, 0, 0, 0, 0, 0, 0, 0, 0, 0, 0, 0, 0, 0, 0, 0, 0, 0, 0, 0, 0, 0, 0, 0, 1, 0, 0, 0, 0, 0, 1, 0, 0, 1, 0, 0, 0, 0, 0, 0, 0, 1, 0, 0, 0, 1, 0, 1, 1, 0, 0, 1, 0, 1, 1, 0, 0, 1, 0, 1, 0, 1, 0, 1, 0, 0, 0, 0, 0, 0, 0, 1, 0, 0, 0, 0, 0, 0, 0, 0, 0, 0, 0, 0, 0, 0, 0, 0, 0, 0, 0, 0, 1, 0, 0, 0, 0, 0, 0, 0, 0, 0, 0, 1, 0, 0, 0, 0, 0, 0, 0, 1, 0, 0, 1, 1, 0, 0, 0, 0, 1, 0, 0, 1, 0, 1, 1, 0, 0, 0, 0, 1, 0, 1, 1, 1, 0, 1, 0, 1, 0, 1, 1, 1, 1, 0, 0, 0, 0, 0, 0, 0, 1, 0, 0, 0, 0, 1, 0, 0, 1, 0, 1, 1, 0, 0, 0, 0, 1, 0, 1, 0, 0, 0, 0, 0, 1, 1, 0, 0, 0, 0, 0, 0, 1, 0, 0, 1, 0, 0, 1, 0, 0, 0, 0, 0, 1, 0, 0, 0, 0, 1, 0, 1, 0, 0, 0, 0, 0, 1, 0, 0, 0, 0, 0, 0, 0, 1, 0, 0, 0, 0, 0, 0, 0, 0, 0, 0, 0, 1, 0, 1, 0, 0, 0, 0, 0, 0, 0, 0, 0, 0, 0, 0, 0, 1, 0, 1, 0, 0, 0, 0, 0, 0, 1, 1, 1, 0, 0, 0, 0, 0, 0, 0, 0, 0, 0, 0, 0, 0, 0, 0, 0, 1, 0, 0, 0, 1, 1, 1, 0, 0, 0, 0, 1, 1, 0, 1, 0, 0, 0, 1, 0, 0, 1, 0, 1, 1, 0, 0, 0, 0, 0, 1, 1, 0, 0, 0, 0, 0, 0, 0, 0, 0, 0, 0, 0, 0, 0, 1, 0, 1, 0, 1, 0, 0, 0, 0, 0, 0, 0, 0, 0, 0, 0, 1, 0, 0, 0, 0, 0, 0, 0, 0, 0, 0, 0, 0, 0, 0, 0, 1, 0, 0, 0, 0, 0, 0, 0, 0, 0, 0, 0, 0, 0, 0, 0, 0, 0, 0, 0, 0, 0, 1, 0, 1, 0, 1, 0, 0, 0, 1, 1, 0, 0, 0, 0, 0, 1, 0, 1, 0, 1, 0, 1, 0, 0, 0, 0, 0, 1, 0, 0, 1, 0, 0, 0, 1, 1, 0, 0, 0, 0, 1, 0, 1, 1, 0, 0, 0, 0, 0, 0, 0, 0, 0, 1, 1, 0, 0, 0, 1, 0, 0, 0, 1, 0, 1, 0, 1, 0, 0, 0, 0, 0, 0, 0, 0, 0, 0, 0, 0, 0, 0, 0, 0, 0, 0, 0, 1, 0, 0, 0, 0, 0, 0, 0, 0, 0, 0, 0, 0, 0, 0, 0, 0, 0, 1, 0, 0, 1, 0, 0, 0, 0, 0, 0, 0, 1, 0, 0, 1, 0, 0, 1, 0, 1, 1, 0, 0, 0, 1, 0, 1, 0, 1, 0, 0, 0, 0, 0, 0, 0, 0, 0, 0, 0, 1, 0, 0, 1, 0, 0, 0, 1, 1, 1, 1, 0, 1, 0, 0, 0, 0, 0, 0, 1, 0, 1, 0, 0, 0, 0, 0, 0, 0, 1, 1, 0, 0, 1, 1, 0, 0, 1, 0, 1, 0, 0, 0, 1, 0, 0, 0, 0, 1, 0, 0, 1, 0, 0, 0, 1, 0, 1, 0, 1, 0, 0, 1, 1, 0, 1, 1, 0, 0, 0, 0, 0, 1, 0, 0, 0, 1, 1, 0, 0, 0, 0, 0, 0, 0, 0, 0, 0, 0, 0, 1, 1, 0, 0, 0, 0, 0, 1, 0, 1, 0, 0, 1, 0, 0, 0, 0, 0, 0, 0, 0, 0, 1, 1, 1, 0, 0, 1, 0, 1, 0, 0, 1, 0, 0, 0, 1, 0, 1, 0, 0, 0, 0, 0, 0, 0, 0, 0, 0, 0, 0, 0, 1, 0, 0, 1, 1, 0, 0, 0, 0, 1, 0, 0, 0, 1, 1, 1, 1, 0, 0, 0, 0, 0, 1, 0, 1, 1, 0, 0, 0, 1, 0, 0, 0, 1, 0, 0, 1, 0, 0, 0, 0, 0, 0, 0, 0, 0, 0, 0, 0, 0, 1, 0, 0, 0, 0, 0, 0, 1, 0, 1, 1, 0, 0, 0, 0, 0, 0, 0, 0, 0, 0, 0, 0, 0, 0, 1, 1, 1, 0, 0, 0, 1, 0, 0, 0, 0, 0, 0, 0, 0, 1, 1, 0, 1, 1, 0, 1, 0, 0, 0, 1, 0, 0, 1, 0, 1, 0, 0, 1, 0, 0, 1, 0, 0, 0, 0, 0, 0, 0, 0, 0, 0, 0, 0, 0, 0, 0, 0, 0, 0, 0, 0, 0, 0, 0, 0, 0, 1, 1, 1, 0, 0, 0, 0, 0, 0, 1, 0, 1, 0, 0, 0, 0, 0, 0, 0, 0, 0, 0, 0, 0, 1, 0, 0, 0, 0, 0, 1, 1, 0, 0, 0, 0, 0, 0, 0, 0, 1, 0, 0, 0, 0, 0, 0, 0, 0, 0, 0, 0, 0, 0, 0, 0, 0, 0, 0, 0, 0, 0, 0, 0, 1, 0, 0, 1, 0, 0, 0, 0, 0, 0, 0, 0, 0, 0, 0, 1, 1, 0, 1, 0, 0, 0, 1, 0, 0, 0, 0, 0, 0, 0, 0, 0, 0, 0, 1, 0, 0, 0, 1, 0, 1, 1, 0, 0, 1, 0, 1, 0, 1, 0, 0, 1, 0, 1, 1, 0, 0, 0, 0, 1, 0, 0, 1, 0, 0, 0, 0, 0, 0, 0, 1, 0, 0, 0, 0, 0, 0, 0, 0, 0, 1, 0, 1, 0, 0, 0, 0, 1, 1, 0, 0, 0, 0, 0, 0, 0, 0, 0, 1, 0, 1, 1, 1, 0, 0, 0, 0, 1, 0, 1, 1, 1, 0, 0, 0, 0, 0, 1, 0, 0, 0, 1, 0, 1, 0, 0, 0, 0, 0, 0, 1, 1, 1, 0, 1, 0, 0, 0, 0, 0, 0, 0, 0, 1, 0, 0, 0, 0, 0, 0, 1, 1, 0, 0, 0, 1, 1, 0, 0, 0, 0, 0, 1, 1, 0, 0, 1, 0, 0, 0, 0, 1, 0, 0, 0, 1, 0, 0, 0, 0, 0, 0, 0, 0, 0, 0, 0, 0, 0, 0, 1, 0, 1, 0, 0, 0, 0, 1, 1, 1, 0, 0, 0, 0, 0, 0, 0, 0, 1, 0, 0, 0, 0, 0, 0, 0, 0, 0, 0, 1, 0, 0, 0, 0, 0, 0, 0, 0, 0, 0, 0, 0, 0, 0, 0, 0, 1, 0, 0, 0, 0, 0, 0, 0, 0, 0, 0, 1, 1, 0, 0, 0, 1, 0, 0, 0, 0, 0, 0, 0, 0, 0, 1, 0, 0, 1, 0, 0, 0, 0, 0, 0, 0, 0, 0, 0, 0, 0, 0, 0, 0, 1, 1, 1, 0, 0, 1, 0, 0, 1, 0, 0, 1, 0, 0, 0, 0, 0, 0, 0, 0, 0, 0, 0, 0, 0, 0, 0, 1, 1, 0, 0, 0, 1, 0, 0, 0, 0, 1, 0, 0, 1, 0, 0, 1, 1, 1, 1, 0, 0, 0, 0, 0, 0, 1, 0, 0, 1, 0, 0, 0, 0, 0, 0, 0, 0, 0, 0, 0, 0, 0, 0, 0, 0, 0, 0, 0, 1, 1, 0, 0, 0, 1, 0, 0, 0, 0, 0, 0, 0, 0, 1, 0, 0, 0, 1, 0, 0, 1, 0, 0, 0, 0, 0, 0, 0, 1, 0, 1, 0, 0, 0, 0, 1, 0, 0, 0, 0, 0, 1, 0, 0, 0, 0, 0, 0, 0, 1, 0, 0, 1, 0, 0, 0, 0, 1, 1, 0, 1, 1, 0, 1, 1, 0, 1, 0, 0, 1, 0, 1, 1, 1, 0, 1, 0, 0, 0, 0, 1, 0, 1, 0, 0, 0, 0, 0, 0, 1, 0, 0, 1, 0, 0, 1, 1, 0, 1, 0, 1, 1, 0, 0, 1, 1, 0, 1, 0, 0, 1, 0, 0, 0, 0, 1, 0, 0, 0, 1, 0, 1, 1, 0, 0, 0, 0, 1, 0, 0, 0, 0, 0, 0, 0, 1, 1, 0, 0, 0, 0, 0, 0, 0, 0, 1, 0, 0, 0, 0, 0, 0, 1, 0, 0, 0, 0, 0, 0, 0, 1, 0, 1, 0, 1, 1, 0, 0, 1, 0, 1, 0, 1, 0, 0, 0, 1, 1, 0, 0, 0, 0, 0, 0, 0, 0, 0, 0, 0, 0, 0, 0, 1, 0, 1, 0, 0, 0, 0, 0, 0, 1, 0, 0, 0, 0, 0, 0, 0, 0, 0, 0, 0, 1, 0, 0, 0, 0, 0, 0, 0, 0, 0, 0, 1, 0, 0, 0, 0, 0, 0, 0, 0, 0, 0, 0, 0, 1, 1, 0, 1, 0, 0, 0, 1, 0, 0, 0, 0, 0, 0, 1, 0, 0, 0, 0, 0, 0, 0, 0, 0, 0, 0, 0, 1, 0, 0, 0, 0, 0, 0, 1, 0, 1, 0, 0, 0, 0, 0, 0, 1, 0, 0, 0, 0, 0, 1, 1, 0, 0, 0, 0, 0, 0, 0, 1, 0, 0, 0, 0, 1, 0, 1, 0, 0, 0, 0, 1, 0, 1, 1, 0, 0, 0, 1, 0, 0, 1, 1, 0, 0, 0, 0, 0, 0, 1, 0, 0, 0, 0, 0, 0, 0, 1, 0, 0, 0, 0, 0, 1, 0, 0, 0, 0, 0, 0, 0, 1, 0, 0, 1, 1, 0, 0, 1, 1, 0, 1, 0, 0, 0, 1, 0, 0, 0, 0, 0, 0, 0, 0, 0, 0, 0, 0, 0, 1, 0, 1, 1, 1, 0, 0, 0, 0, 0, 0, 0, 0, 0, 0, 0, 0, 0, 0, 0, 0, 1, 1, 1, 1, 0, 0, 0, 0, 0, 0, 0, 0, 0, 0, 0, 0, 0, 0, 0, 1, 0, 0, 0, 1, 0, 0, 0, 0, 0, 0, 0, 0, 0, 0, 0, 0, 0, 0, 0, 0, 0, 0, 0, 0, 1, 0, 0, 0, 1, 0, 1, 0, 0, 1, 0, 0, 0, 0, 1, 0, 0, 0, 0, 0, 0, 0, 0, 0, 0, 0, 0, 1, 0, 0, 0, 0, 0, 0, 0, 0, 0, 0, 0, 0, 0, 0, 0, 0, 0, 1, 0, 0, 0, 0, 0, 1, 0, 1, 1, 1, 0, 0, 0, 0, 0, 0, 0, 0, 0, 1, 0, 0, 0, 1, 0, 0, 1, 0, 0, 1, 0, 0, 0, 0, 0, 1, 0, 0, 1, 0, 1, 0, 0, 0, 0, 0, 0, 0, 0, 0, 1, 0, 1, 1, 0, 0, 0, 0, 0, 0, 0, 0, 1, 0, 0, 0, 1, 0, 0, 0, 0, 0, 0, 0, 0, 0, 0, 0, 0, 1, 0, 0, 1, 0, 0, 1, 1, 0, 0, 0, 0, 0, 0, 0, 0, 0, 0, 0, 1, 0, 0, 0, 0, 1, 0, 0, 0, 1, 0, 1, 1, 1, 0, 0, 0, 1, 1, 0, 0, 0, 1, 0, 0, 0, 1, 1, 0, 1, 0, 0, 1, 0, 0, 0, 0, 0, 0, 0, 0, 0, 0, 0, 1, 1, 0, 0, 0, 1, 0, 0, 0, 0, 1, 0, 0, 0, 0, 0, 0, 0, 0, 1, 0, 0, 0, 0, 0, 0, 0, 0, 1, 0, 0, 0, 0, 0, 0, 0, 0, 0, 1, 0, 0, 0, 1, 0, 0, 0, 0, 0, 1, 0, 0, 1, 0, 0, 1, 0, 0, 0, 1, 0, 0, 0, 0, 0, 0, 0, 0, 0, 0, 0, 0, 0, 0, 0, 1, 0, 0, 1, 0, 0, 1, 1, 1, 0, 1, 1, 0, 1, 0, 0, 0, 0, 1, 0, 0, 1, 0, 0, 1, 1, 0, 1, 1, 0, 0, 0, 0, 0, 0, 1, 0, 0, 0, 0, 0, 1, 0, 0, 0, 0, 0, 0, 1, 0, 0, 0, 0, 1, 0, 0, 1, 0, 1, 1, 0, 1, 0, 0, 0, 0, 1, 0, 1, 1, 0, 0, 0, 1, 0, 0, 0, 0, 1, 0, 0, 0, 1, 0, 0, 0, 0, 0, 0, 1, 0, 0, 1, 0, 0, 0, 0, 0, 0, 0, 1, 0, 1, 0, 0, 0, 1, 0, 1, 0, 1, 0, 1, 0, 0, 0, 0, 0, 0, 0, 1, 0, 1, 0, 0, 1, 0, 0, 0, 0, 0, 0, 0, 0, 1, 0, 0, 0, 0, 0, 0, 1, 1, 1, 0, 0, 0, 1, 0, 0, 0, 0, 0, 0, 0, 0, 0, 0, 0, 1, 1, 0, 0, 0, 1, 0, 1, 1, 0, 0, 1, 0, 1, 0, 1, 0, 1, 0, 1, 0, 0, 0, 1, 1, 1, 0, 1, 0, 0, 0, 0, 0, 0, 1, 1, 0, 0, 0, 0, 0, 0, 1, 0, 0, 0, 1, 0, 0, 1, 1, 0, 1, 0, 0, 0, 0, 1, 0, 0, 0, 0, 0, 1, 0, 1, 0, 1, 0, 1, 0, 1, 0, 1, 1, 1, 0, 1, 0, 1, 0, 0, 0, 1, 0, 1, 0, 1, 0, 0, 1, 0, 1, 0, 0, 0, 0, 0, 1, 0, 1, 0, 0, 0, 0, 0, 0, 0, 0, 1, 1, 0, 0, 1, 0, 0, 1, 0, 1, 1, 1, 1, 0, 0, 1, 0, 0, 0, 1, 0, 0, 0, 0, 0, 0, 0, 0, 0, 1, 0, 1, 0, 0, 0, 0, 1, 1, 0, 0, 0, 1, 0, 0, 1, 0, 0, 0, 0, 0, 0, 0, 0, 0, 0, 0, 0, 0, 0, 1, 0, 0, 0, 0, 0, 1, 0, 1, 0, 0, 0, 0, 0, 1, 0, 0, 0, 0, 0, 0, 0, 0, 0, 0, 1, 0, 0, 0, 0, 1, 0, 0, 0, 0, 1, 0, 0, 0, 0, 0, 1, 1, 0, 0, 0, 0, 0, 0, 1, 1, 0, 0, 0, 1, 0, 0, 0, 0, 1, 0, 1, 1, 0, 0, 0, 1, 0, 0, 0, 0, 0, 1, 1, 0, 0, 0, 1, 0, 1, 0, 1, 0, 0, 1, 1, 1, 0, 0, 0, 1, 0, 1, 1, 0, 0, 0, 0, 0, 1, 0, 1, 0, 0, 0, 1, 0, 1, 0, 1, 0, 0, 0, 0, 0, 0, 0, 0, 0, 1, 1, 0, 0, 0, 1, 0, 1, 1, 0, 0, 0, 0, 0, 0, 0, 0, 0, 0, 0, 1, 0, 0, 1, 0, 0, 1, 0, 1, 0, 0, 0, 0, 0, 0, 0, 0, 1, 0, 1, 1, 0, 1, 0, 0, 0, 0, 0, 0, 0, 1, 0, 0, 1, 1, 0, 1, 0, 0, 0, 0, 0, 0, 1, 0, 1, 1, 0, 0, 0, 1, 0, 0, 0, 0, 0, 0, 0, 0, 0, 1, 1, 0, 0, 0, 0, 0, 0, 0, 0, 1, 1, 0, 0, 1, 1, 0, 0, 1, 0, 0, 0, 0, 0, 1, 1, 0, 0, 0, 0, 0, 1, 0, 0, 1, 1, 0, 0, 0, 0, 0, 1, 1, 0, 0, 0, 0, 0, 1, 0, 1, 0, 0, 0, 0, 1, 1, 0, 1, 0, 1, 0, 0, 0, 0, 0, 0, 0, 1, 0, 0, 0, 0, 0, 0, 0, 1, 0, 1, 1, 0, 0, 0, 0, 1, 0, 0, 0, 1, 1, 1, 1, 0, 0, 1, 0, 1, 0, 0, 0, 0, 0, 0, 0, 0, 0, 0, 1, 0, 0, 0, 0, 0, 1, 0, 0, 0, 0, 1, 1, 0, 0, 0, 0, 0, 0, 0, 0, 0, 0, 1, 0, 1, 0, 0, 1, 0, 0, 1, 0, 0, 0, 0, 0, 0, 0, 0, 0, 0, 0, 0, 0, 0, 1, 0, 0, 0, 0, 0, 0, 0, 0, 0, 0, 0, 0, 0, 1, 0, 0, 0, 0, 0, 1, 1, 0, 1, 1, 1, 0, 0, 0, 0, 0, 1, 0, 1, 1, 0, 0, 0, 0, 0, 0, 0, 0, 0, 0, 0, 0, 1, 1, 0, 0, 1, 1, 0, 0, 1, 0, 0, 1, 0, 0, 1, 0, 0, 0, 0, 1, 1, 0, 1, 0, 0, 0, 1, 0, 1, 0, 1, 0, 0, 0, 0, 0, 0, 0, 0, 1, 0, 0, 0, 0, 0, 0, 0, 0, 1, 0, 0, 0, 0, 0, 0, 0, 0, 1, 0, 1, 1, 0, 0, 0, 0, 0, 1, 0, 1, 0, 0, 0, 1, 0, 0, 0, 0, 1, 0, 0, 0, 0, 0, 0, 0, 1, 0, 0, 0, 0, 0, 0, 1, 0, 0, 0, 0, 0, 0, 0, 1, 0, 0, 1, 1, 1, 0, 0, 0, 0, 0, 0, 0, 1, 0, 0, 0, 1, 0, 0, 0, 1, 0, 1, 0, 0, 0, 1, 1, 0, 1, 0, 0, 0, 0, 0, 0, 0, 1, 1, 0, 0, 0, 0, 1, 0, 0, 0, 1, 0, 0, 0, 1, 0, 0, 0, 0, 0, 1, 0, 1, 1, 0, 0, 0, 1, 0, 0, 0, 0, 1, 1, 0, 1, 1, 0, 1, 0, 1, 0, 0, 0, 0, 1, 0, 0, 1, 0, 0, 0, 0, 1, 0, 1, 1, 0, 0, 0, 1, 0, 0, 0, 1, 0, 0, 0, 0, 0, 0, 0, 0, 0, 0, 0, 0, 0, 1, 0, 0, 0, 0, 0, 1, 0, 0, 0, 0, 0, 0, 0, 1, 0, 1, 0, 0, 0, 0, 0, 1, 1, 0, 0, 0, 0, 1, 0, 0, 1, 0, 0, 0, 0, 1, 0, 0, 0, 0, 1, 0, 0, 1, 0, 0, 0, 0, 0, 0, 0, 1, 0, 0, 0, 0, 0, 0, 0, 0, 0, 0, 0, 0, 1, 0, 0, 0, 1, 1, 0, 0, 0, 0, 0, 0, 0, 0, 1, 0, 0, 0, 0, 0, 1, 0, 1, 0, 1, 0, 0, 0, 1, 0, 1, 0, 0, 0, 0, 0, 0, 0, 0, 1, 0, 1, 0, 1, 0, 0, 0, 1, 0, 0, 1, 0, 1, 0, 0, 0, 0, 1, 1, 0, 0, 0, 0, 0, 0, 0, 0, 1, 0, 0, 0, 0, 0, 0, 0, 0, 0, 0, 0, 0, 0, 0, 1, 0, 1, 0, 0, 0, 1, 0, 0, 0, 0, 0, 0, 1, 0, 0, 0, 1, 0, 0, 1, 0, 1, 1, 0, 0, 0, 0, 1, 0, 1, 0, 0, 0, 0, 1, 0, 0, 0, 0, 0, 0, 0, 0, 1, 1, 0, 0, 0, 0, 1, 0, 0, 0, 0, 0, 0, 0, 0, 0, 0, 0, 0, 0, 0, 0, 0, 0, 0, 0, 0, 1, 0, 0, 1, 0, 0, 0, 0, 0, 0, 0, 1, 1, 0, 0, 0, 0, 0, 0, 0, 0, 0, 0, 0, 0, 0, 1, 0, 0, 0, 0, 0, 1, 0, 1, 0, 0, 1, 1, 1, 1, 0, 0, 0, 0, 0, 0, 0, 0, 0, 1, 0, 0, 0, 0, 0, 0, 0, 1, 0, 0, 0, 0, 0, 0, 0, 1, 0, 0, 0, 1, 0, 0, 0, 0, 0, 0, 0, 1, 0, 0, 0, 0, 0, 0, 0, 1, 1, 0, 0, 0, 0, 1, 0, 0, 0, 1, 1, 0, 1, 0, 0, 0, 1, 0, 0, 0, 0, 0, 0, 0, 1, 0, 0, 1, 0, 1, 1, 0, 1, 0, 1, 0, 0, 0, 0, 0, 0, 0, 0, 0, 0, 0, 0, 1, 0, 0, 0, 0, 0, 0, 1, 0, 0, 1, 0, 0, 0, 0, 0, 0, 0, 1, 0, 1, 1, 0, 0, 0, 0, 0, 0, 0, 0, 0, 0, 0, 1, 0, 1, 0, 1, 0, 0, 0, 0, 0, 0, 1, 0, 0, 0, 0, 0, 1, 0, 1, 0, 0, 0, 1, 0, 0, 0, 0, 0, 0, 0, 0, 0, 0, 0, 0, 0, 0, 0, 0, 0, 0, 0, 0, 1, 0, 1, 0, 0, 0, 0, 0, 0, 0, 0, 0, 1, 1, 0, 0, 0, 0, 1, 1, 0, 0, 0, 0, 0, 0, 0, 0, 0, 0, 0, 0, 0, 0, 0, 1, 0, 1, 1, 0, 0, 0, 0, 1, 0, 1, 0, 0, 1, 0, 0, 0, 0, 0, 1, 0, 0, 0, 0, 0, 0, 0, 1, 0, 0, 1, 1, 1, 1, 0, 1, 0, 1, 0, 1, 0, 0, 1, 0, 0, 1, 0, 0, 0, 0, 0, 1, 0, 0, 1, 0, 0, 0, 0, 0, 0, 1, 0, 0, 1, 1, 1, 1, 0, 1, 0, 0, 0, 1, 0, 0, 0, 1, 0, 0, 1, 0, 0, 0, 0, 0, 0, 0, 0, 1, 1, 1, 0, 0, 0, 1, 1, 1, 1, 0, 0, 1, 0, 0, 0, 1, 1, 0, 0, 0, 0, 0, 0, 0, 0, 0, 0, 0, 0, 0, 0, 0, 0, 1, 0, 1, 0, 0, 0, 0, 0, 0, 0, 0, 1, 0, 0, 0, 1, 0, 0, 0, 1, 0, 0, 0, 0, 1, 0, 1, 0, 1, 0, 0, 0, 0, 1, 0, 0, 0, 0, 1, 0, 0, 0, 0, 0, 1, 0, 0, 0, 1, 0, 0, 1, 0, 0, 0, 0, 0, 0, 0, 0, 1, 0, 0, 0, 0, 1, 0, 0, 0, 0, 0, 0, 0, 0, 0, 0, 0, 0, 0, 1, 1, 1, 0, 0, 0, 0, 0, 0, 0, 0, 1, 0, 0, 0, 0, 1, 1, 0, 0, 0, 0, 0, 0, 0, 0, 0, 0, 0, 0, 1, 1, 0, 0, 1, 0, 1, 0, 0, 0, 0, 0, 0, 0, 1, 1, 0, 1, 0, 0, 1, 1, 0, 0, 1, 0, 0, 1, 0, 0, 1, 0, 0, 0, 0, 0, 0, 0, 0, 0, 0, 0, 0, 0, 0, 1, 0, 0, 0, 0, 0, 0, 0, 0, 0, 0, 0, 0, 0, 0, 0, 0, 0, 1, 0, 0, 1, 1, 1, 1, 1, 1, 1, 1, 1, 0, 0, 0, 1, 0, 1, 1, 1, 0, 0, 0, 0, 1, 0, 0, 1, 0, 0, 1, 0, 0, 0, 0, 0, 0, 1, 0, 0, 0, 0, 1, 0, 0, 0, 0, 1, 0, 0, 0, 0, 0, 1, 0, 0, 0, 0, 0, 0, 0, 0, 0, 0, 1, 1, 0, 0, 0, 0, 0, 0, 0, 0, 0, 1, 0, 0, 0, 0, 1, 0, 0, 0, 0, 0, 0, 0, 0, 0, 0, 0, 0, 0, 0, 0, 0, 0, 0, 0, 0, 0, 1, 0, 0, 0, 0, 1, 0, 0, 0, 1, 1, 0, 1, 0, 0, 0, 0, 1, 1, 1, 1, 1, 0, 0, 1, 0, 1, 0, 0, 1, 0, 0, 1, 0, 1, 0, 0, 0, 0, 0, 0, 0, 0, 0, 0, 0, 1, 0, 0, 0, 1, 0, 0, 1, 0, 0, 0, 0, 0, 0, 0, 0, 0, 0, 0, 0, 1, 0, 0, 0, 0, 0, 1, 0, 0, 0, 0, 0, 0, 1, 0, 0, 0, 0, 1, 1, 0, 0, 0, 1, 0, 0, 0, 1, 0, 0, 1, 1, 0, 0, 0, 1, 1, 0, 0, 1, 0, 0, 0, 0, 0, 0, 0, 0, 0, 0, 1, 0, 0, 0, 0, 0, 0, 0, 0, 1, 0, 0, 0, 1, 0, 1, 1, 1, 0, 0, 0, 0, 0, 0, 0, 1, 0, 1, 0, 0, 0, 0, 0, 0, 0, 1, 0, 0, 0, 1, 0, 1, 1, 0, 0, 1, 0, 0, 0, 0, 0, 0, 0, 0, 0, 0, 0, 0, 0, 1, 0, 0, 0, 0, 0, 0, 0, 0, 1, 0, 1, 0, 0, 0, 0, 0, 0, 0, 0, 0, 0, 0, 1, 0, 0, 0, 0, 0, 1, 0, 0, 0, 0, 0, 1, 0, 0, 0, 0, 0, 0, 1, 0, 0, 0, 1, 0, 0, 0, 0, 0, 0, 0, 0, 0, 0, 0, 0, 0, 0, 0, 0, 0, 0, 0, 0, 0, 1, 0, 0, 1, 0, 1, 0, 0, 0, 0, 0, 0, 0, 0, 0, 0, 0, 0, 0, 0, 1, 0, 0, 1, 0, 0, 1, 0, 0, 0, 0, 1, 1, 0, 0, 0, 0, 0, 0, 0, 0, 0, 0, 0, 0, 1, 0, 0, 1, 0, 1, 0, 0, 0, 0, 1, 0, 1, 1, 1, 0, 0, 0, 0, 0, 0, 0, 0, 0, 0, 1, 1, 0, 0, 0, 0, 0, 0, 0, 0, 0, 0, 0, 1, 1, 1, 0, 1, 1, 0, 0, 0, 0, 0, 0, 0, 1, 0, 0, 0, 0, 0, 0, 1, 0, 0, 0, 0, 0, 0, 0, 0, 0, 0, 0, 0, 0, 0, 0, 0, 0, 0, 0, 0, 0, 0, 1, 1, 0, 0, 0, 0, 0, 0, 0, 0, 0, 0, 1, 0, 1, 0, 0, 0, 0, 0, 0, 0, 0, 0, 1, 1, 0, 0, 0, 1, 0, 0, 1, 0, 0, 0, 1, 1, 0, 1, 0, 1, 0, 0, 0, 0, 0, 0, 0, 0, 1, 0, 0, 0, 0, 0, 0, 0, 0, 1, 1, 0, 0, 0, 1, 1, 0, 1, 0, 0, 0, 0, 0, 0, 0, 0, 0, 0, 0, 0, 0, 0, 1, 1, 0, 0, 0, 0, 0, 0, 1, 0, 0, 1, 0, 0, 0, 0, 0, 0, 1, 0, 0, 0, 0, 0, 0, 0, 0, 0, 0, 0, 0, 0, 0, 0, 0, 0, 1, 0, 1, 0, 0, 0, 0, 0, 0, 0, 0, 0, 0, 0, 0, 0, 0, 0, 1, 0, 0, 0, 1, 0, 0, 1, 0, 0, 1, 0, 1, 0, 1, 1, 0, 0, 0, 0, 0, 0, 1, 0, 1, 0, 0, 0, 0, 0, 1, 1, 0, 0, 0, 1, 0, 0, 1, 1, 0, 0, 1, 1, 1, 1, 1, 1, 0, 0, 0, 1, 1, 0, 0, 0, 0, 0, 1, 0, 0, 0, 0, 0, 0, 0, 0, 0, 1, 0, 0, 0, 0, 0, 0, 1, 0, 0, 0, 0, 0, 0, 1, 0, 0, 0, 0, 0, 1, 0, 0, 0, 0, 1, 0, 0, 0, 1, 0, 0, 0, 0, 0, 0, 0, 1, 0, 0, 0, 0, 1, 0, 0, 0, 0, 0, 0, 0, 0, 0, 0, 1, 0, 0, 0, 0, 0, 0, 0, 0, 0, 0, 0, 0, 0, 0, 0, 0, 0, 0, 1, 0, 0, 0, 1, 1, 0, 1, 0, 0, 0, 0, 0, 0, 0, 0, 0, 1, 0, 0, 1, 0, 0, 1, 0, 1, 0, 0, 0, 0, 0, 0, 0, 0, 0, 0, 0, 0, 1, 0, 0, 1, 1, 0, 1, 0, 0, 1, 0, 0, 0, 1, 1, 1, 0, 0, 0, 0, 0, 0, 0, 0, 0, 1, 0, 0, 0, 1, 1, 0, 0, 0, 0, 1, 0, 0, 0, 0, 0, 0, 0, 0, 0, 0, 0, 0, 0, 0, 0, 0, 0, 1, 0, 1, 0, 1, 1, 0, 0, 0, 0, 0, 0, 0, 1, 0, 0, 0, 0, 0, 0, 0, 0, 0, 0, 0, 0, 0, 0, 0, 0, 0, 0, 0, 0, 1, 0, 1, 0, 0, 1, 1, 0, 0, 0, 0, 0, 0, 0, 0, 0, 1, 0, 0, 0, 0, 1, 0, 1, 1, 1, 1, 0, 0, 0, 0, 0, 1, 0, 0, 1, 0, 0, 0, 0, 0, 0, 0, 0, 1, 0, 0, 0, 0, 0, 1, 0, 0, 0, 1, 0, 0, 1, 1, 0, 0, 0, 0, 0, 1, 0, 0, 0, 0, 0, 0, 0, 0, 0, 1, 1, 0, 0, 0, 1, 0, 0, 0, 0, 0, 0, 0, 0, 0, 0, 1, 0, 0, 0, 0, 0, 0, 0, 0, 0, 0, 0, 1, 0, 0, 0, 1, 0, 0, 0, 0, 0, 0, 0, 0, 0, 0, 1, 0, 0, 1, 1, 0, 0, 0, 0, 0, 0, 0, 0, 0, 0, 0, 0, 0, 0, 0, 1, 1, 0, 0, 0, 0, 0, 0, 0, 0, 0, 0, 0, 0, 0, 0, 0, 0, 0, 0, 0, 1, 0, 0, 0, 0, 0, 0, 1, 0, 0, 0, 0, 0, 0, 0, 1, 0, 0, 0, 0, 1, 0, 1, 0, 0, 0, 0, 0, 0, 0, 0, 1, 1, 0, 0, 0, 1, 0, 0, 0, 0, 1, 0, 0, 0, 0, 0, 0, 0, 0, 0, 0, 1, 0, 0, 0, 1, 0, 0, 0, 1, 0, 0, 0, 0, 1, 0, 0, 1, 0, 0, 0, 1, 1, 0, 1, 0, 0, 0, 0, 0, 0, 0, 1, 0, 1, 1, 1, 0, 1, 0, 0, 0, 0, 1, 0, 1, 0, 0, 0, 0, 0, 0, 0, 1, 1, 0, 0, 0, 0, 0, 0, 0, 0, 0, 0, 1, 0, 0, 0, 0, 0, 0, 0, 1, 0, 0, 0, 0, 1, 1, 0, 0, 0, 0, 0, 0, 0, 1, 0, 1, 0, 0, 0, 1, 0, 0, 0, 0, 0, 0, 1, 0, 1, 0, 0, 1, 0, 1, 0, 0, 0, 0, 0, 0, 0, 1, 0, 0, 1, 0, 0, 0, 0, 0, 0, 0, 0, 0, 0, 0, 0, 0, 0, 0, 0, 1, 1, 0, 0, 1, 0, 0, 0, 0, 0, 0, 1, 1, 1, 1, 1, 1, 0, 1, 0, 0, 0, 0, 1, 0, 1, 1, 0, 0, 1, 0, 0, 0, 0, 0, 0, 0, 0, 1, 0, 0, 0, 0, 0, 0, 0, 0, 0, 0, 1, 0, 0, 0, 0, 1, 0, 0, 0, 1, 0, 0, 0, 0, 0, 0, 0, 0, 1, 0, 0, 0, 0, 0, 0, 1, 0, 0, 0, 0, 0, 0, 0, 1, 1, 1, 0, 0, 0, 0, 0, 1, 0, 0, 0, 0, 0, 0, 0, 0, 0, 0, 0, 1, 0, 1, 0, 1, 0, 0, 1, 0, 1, 0, 0, 0, 1, 0, 0, 0, 0, 0, 0, 0, 0, 1, 1, 0, 0, 1, 0, 0, 0, 0, 0, 0, 1, 0, 0, 0, 0, 0, 0, 1, 0, 0, 0, 0, 0, 1, 0, 1, 0, 1, 0, 1, 0, 0, 0, 1, 0, 1, 0, 1, 1, 0, 1, 0, 0, 0, 0, 0, 1, 0, 0, 0, 0, 0, 0, 0, 0, 0, 1, 0, 0, 0, 0, 0, 0, 0, 0, 0, 0, 0, 0, 0, 0, 0, 0, 0, 0, 1, 0, 0, 0, 1, 0, 0, 0, 0, 0, 0, 0, 0, 0, 0, 0, 0, 0, 0, 0, 0, 0, 0, 0, 0, 0, 1, 0, 0, 1, 0, 0, 0, 0, 1, 0, 0, 1, 1, 0, 0, 1, 0, 0, 0, 0, 0, 0, 0, 0, 0, 0, 0, 0, 0, 0, 0, 1, 0, 0, 0, 0, 0, 0, 0, 0, 0, 0, 1, 0, 1, 0, 0, 0, 0, 0, 0, 0, 0, 1, 0, 0, 0, 0, 0, 0, 0, 0, 1, 0, 0, 0, 1, 0, 0, 0, 0, 1, 1, 0, 1, 0, 0, 0, 1, 0, 0, 0, 0, 1, 0, 0, 0, 0, 0, 0, 0, 0, 0, 0, 0, 0, 0, 0, 0, 0, 1, 1, 1, 0, 0, 0, 0, 0, 0, 0, 0, 0, 0, 0, 1, 0, 0, 0, 0, 0, 0, 0, 0, 0, 1, 0, 0, 0, 1, 1, 0, 1, 0, 0, 0, 0, 0, 1, 0, 1, 0, 0, 0, 0, 0, 1, 0, 0, 0, 0, 0, 0, 0, 0, 1, 0, 0, 1, 0, 0, 1, 0, 0, 1, 0, 0, 0, 1, 0, 1, 1, 0, 0, 0, 1, 0, 0, 1, 0, 0, 0, 0, 0, 0, 1, 0, 0, 1, 0, 0, 0, 1, 1, 1, 0, 1, 0, 0, 0, 1, 0, 0, 0, 1, 0, 0, 0, 0, 0, 0, 0, 0, 0, 0, 1, 1, 1, 0, 1, 0, 0, 0, 0, 0, 1, 0, 0, 0, 0, 0, 0, 0, 1, 0, 1, 1, 0, 0, 1, 1, 0, 0, 0, 0, 0, 0, 0, 0, 0, 0, 1, 0, 0, 0, 1, 1, 0, 0, 0, 0, 0, 0, 0, 0, 0, 0, 0, 0, 1, 0, 1, 0, 0, 0, 1, 0, 0, 1, 0, 0, 0, 1, 0, 0, 0, 0, 0, 0, 1, 0, 0, 0, 0, 0, 0, 1, 0, 0, 0, 0, 0, 0, 0, 0, 0, 0, 0, 0, 0, 0, 0, 0, 1, 0, 1, 0, 1, 0, 0, 0, 0, 0, 0, 0, 0, 0, 1, 0, 0, 0, 0, 0, 0, 0, 1, 0, 0, 0, 1, 0, 1, 0, 0, 0, 0, 0, 1, 0, 0, 0, 1, 0, 1, 0, 0, 0, 0, 1, 0, 0, 0, 1, 0, 0, 0, 0, 0, 0, 1, 0, 0, 0, 0, 0, 1, 0, 0, 0, 0, 0, 0, 1, 1, 0, 1, 0, 1, 0, 1, 0, 0, 0, 0, 0, 1, 0, 0, 0, 1, 0, 0, 1, 0, 0, 0, 0, 0, 1, 0, 0, 0, 1, 0, 0, 0, 0, 0, 0, 0, 0, 0, 1, 1, 0, 0, 0, 0, 0, 1, 0, 0, 0, 0, 0, 0, 0, 0, 0, 0, 0, 0, 0, 1, 0, 0, 0, 1, 0, 0, 0, 0, 0, 1, 0, 0, 0, 0, 1, 0, 0, 0, 0, 0, 0, 0, 1, 0, 0, 0, 0, 0, 0, 0, 0, 1, 0, 0, 0, 1, 0, 1, 0, 0, 0, 1, 0, 0, 0, 0, 0, 0, 0, 0, 0, 0, 1, 0, 0, 0, 0, 0, 1, 0, 0, 0, 0, 0, 0, 0, 0, 1, 0, 0, 0, 0, 0, 0, 0, 0, 0, 0, 0, 0, 1, 0, 0, 0, 0, 1, 1, 1, 0, 0, 0, 0, 0, 0, 0, 0, 1, 0, 1, 0, 0, 0, 0, 0, 0, 1, 0, 0, 0, 0, 0, 0, 1, 0, 0, 1, 1, 0, 1, 1, 0, 1, 0, 0, 1, 0, 1, 0, 1, 0, 0, 0, 1, 0, 0, 0, 1, 0, 0, 0, 0, 0, 1, 0, 0, 0, 0, 0, 0, 1, 0, 1, 0, 0, 0, 0, 1, 0, 0, 0, 0, 1, 0, 0, 1, 0, 1, 0, 1, 0, 0, 1, 0, 0, 0, 0, 1, 0, 1, 0, 0, 1, 0, 0, 0, 0, 0, 0, 0, 0, 0, 0, 1, 0, 1, 0, 0, 0, 0, 1, 0, 0, 1, 0, 0, 0, 0, 0, 0, 1, 1, 1, 0, 0, 0, 1, 0, 0, 0, 0, 0, 0, 1, 0, 0, 0, 0, 0, 0, 1, 0, 0, 0, 0, 0, 0, 1, 0, 0, 0, 0, 0, 0, 1, 1, 0, 0, 0, 1, 0, 0, 0, 0, 1, 1, 0, 0, 0, 0, 1, 1, 0, 1, 0, 0, 1, 0, 0, 0, 0, 1, 0, 1, 1, 1, 0, 0, 1, 0, 0, 0, 0, 0, 0, 0, 0, 0, 0, 0, 1, 1, 0, 0, 1, 0, 0, 0, 0, 0, 0, 1, 0, 1, 0, 0, 0, 1, 1, 0, 1, 0, 1, 0, 1, 0, 0, 0, 0, 0, 0, 0, 1, 0, 1, 0, 0, 0, 0, 0, 0, 0, 0, 1, 1, 1, 0, 0, 0, 0, 0, 0, 0, 1, 1, 0, 0, 1, 0, 1, 0, 0, 0, 1, 1, 0, 0, 1, 0, 0, 0, 1, 0, 1, 0, 0, 0, 0, 0, 1, 0, 0, 0, 1, 0, 0, 1, 0, 0, 0, 0, 0, 1, 0, 0, 0, 0, 0, 0, 0, 1, 0, 0, 0, 1, 1, 0, 0, 0, 1, 0, 1, 0, 0, 1, 0, 1, 0, 0, 0, 0, 1, 0, 0, 0, 0, 1, 0, 0, 0, 1, 0, 0, 0, 0, 0, 0, 0, 1, 1, 0, 0, 1, 0, 0, 0, 0, 0, 0, 0, 0, 0, 0, 0, 0, 0, 0, 1, 1, 0, 0, 0, 0, 0, 1, 0, 0, 0, 0, 0, 1, 0, 0, 0, 0, 1, 0, 0, 1, 0, 0, 1, 0, 0, 1, 0, 0, 0, 0, 0, 1, 1, 0, 0, 1, 0, 0, 1, 0, 0, 0, 1, 1, 0, 1, 0, 0, 0, 0, 1, 1, 1, 1, 0, 0, 1, 0, 0, 0, 1, 0, 0, 0, 0, 1, 1, 0, 0, 0, 0, 0, 0, 0, 1, 0, 1, 0, 0, 1, 0, 0, 0, 0, 0, 0, 0, 0, 0, 1, 0, 1, 0, 0, 1, 0, 0, 0, 0, 0, 0, 0, 1, 1, 0, 0, 0, 0, 0, 0, 0, 0, 0, 0, 0, 1, 0, 0, 1, 0, 0, 0, 0, 0, 0, 0, 1, 0, 0, 0, 0, 0, 1, 0, 0, 1, 0, 0, 0, 0, 1, 1, 0, 0, 0, 0, 0, 1, 0, 0, 0, 0, 1, 0, 0, 0, 1, 0, 1, 1, 0, 0, 0, 0, 0, 0, 0, 0, 0, 1, 0, 0, 0, 1, 1, 1, 1, 1, 0, 0, 0, 0, 0, 1, 0, 0, 1, 1, 0, 0, 0, 0, 1, 1, 1, 0, 0, 1, 0, 1, 0, 0, 1, 0, 0, 0, 0, 0, 0, 0, 0, 1, 0, 0, 0, 0, 0, 1, 0, 0, 0, 1, 0, 1, 0, 1, 0, 0, 0, 1, 0, 0, 0, 0, 0, 1, 0, 1, 0, 0, 1, 0, 1, 0, 1, 1, 0, 0, 0, 0, 0, 0, 0, 0, 1, 0, 1, 0, 0, 0, 0, 0, 1, 0, 0, 1, 1, 0, 0, 0, 0, 0, 0, 0, 1, 0, 0, 0, 0, 0, 1, 1, 0, 0, 1, 0, 0, 0, 0, 0, 1, 0, 0, 0, 1, 1, 0, 0, 1, 1, 0, 1, 0, 0, 0, 1, 0, 0, 0, 0, 0, 1, 0, 0, 1, 0, 1, 1, 1, 0, 0, 1, 1, 0, 0, 0, 0, 0, 0, 0, 1, 0, 1, 0, 0, 1, 0, 0, 1, 1, 0, 0, 0, 0, 0, 0, 0, 0, 0, 0, 0, 0, 0, 0, 1, 0, 0, 0, 0, 0, 0, 0, 0, 0, 0, 1, 1, 0, 0, 0, 0, 0, 0, 0, 1, 0, 0, 1, 0, 0, 0, 1, 0, 0, 1, 1, 0, 0, 0]\n"
          ]
        },
        {
          "output_type": "stream",
          "name": "stderr",
          "text": [
            "Some weights of the model checkpoint at google/bert_uncased_L-8_H-512_A-8 were not used when initializing BertModel: ['cls.predictions.transform.LayerNorm.weight', 'cls.predictions.bias', 'cls.predictions.decoder.bias', 'cls.seq_relationship.bias', 'cls.predictions.decoder.weight', 'cls.predictions.transform.dense.bias', 'cls.predictions.transform.dense.weight', 'cls.predictions.transform.LayerNorm.bias', 'cls.seq_relationship.weight']\n",
            "- This IS expected if you are initializing BertModel from the checkpoint of a model trained on another task or with another architecture (e.g. initializing a BertForSequenceClassification model from a BertForPreTraining model).\n",
            "- This IS NOT expected if you are initializing BertModel from the checkpoint of a model that you expect to be exactly identical (initializing a BertForSequenceClassification model from a BertForSequenceClassification model).\n"
          ]
        }
      ]
    },
    {
      "cell_type": "code",
      "source": [
        "# plotting results of evaluation (precision & recall)\n",
        "import matplotlib.pyplot as plt\n",
        "\n",
        "\n",
        "model_names = list(model_dic.keys())\n",
        "for name in model_names:\n",
        "  plt.plot(model_dic[name]['Recall'],model_dic[name]['Precision'])\n",
        "\n",
        "\n",
        "\n",
        "\n",
        "plt.plot([0,1],[0.5,0.5])\n",
        "plt.xlabel('Recall')\n",
        "plt.ylabel('Precision')\n",
        "plt.legend(model_names)"
      ],
      "metadata": {
        "id": "_kyGXaegH7xn"
      },
      "execution_count": null,
      "outputs": []
    },
    {
      "cell_type": "code",
      "source": [
        "# model comparison\n",
        "with open('/content/drive/My Drive/reddit_mental_health/tiny_bert_metrics.json','r') as jfile:\n",
        "  tiny_data = json.load(jfile)\n",
        "\n",
        "with open('/content/drive/My Drive/reddit_mental_health/med_bert_metrics.json','r') as jfile:\n",
        "  med_data = json.load(jfile)\n",
        "\n",
        "print(tiny_data)\n",
        "print(med_data)\n",
        "\n",
        "# available metrics\n",
        "\"\"\"'accuracy': accs,\n",
        "        'recall_macro': recalls_mac,\n",
        "        'recall_micro': recalls_mic,\n",
        "        'precisions_mac': precisions_mac,\n",
        "        'precisions_mic': precisions_mic,\n",
        "        'f1s_mac': f1s_mac,\n",
        "        'f1s_mic': f1s_mic,\n",
        "        'losses': losses\n",
        "        }\"\"\"\n",
        "\n",
        "p = tiny_data['train']['precisions_mac']\n",
        "v = med_data['train']['precisions_mac']\n",
        "\n",
        "x = np.array([i for i in range(len(p))])\n",
        "y = np.array([e for e in p ])\n",
        "y1 = np.array([e for e in v ])\n",
        "\n",
        "plt.plot(x,y)\n",
        "plt.plot(x,y1)\n",
        "\n",
        "plt.xlabel('Log Step')\n",
        "plt.ylabel('Precision')\n",
        "plt.legend(['Tiny','Med'])"
      ],
      "metadata": {
        "colab": {
          "base_uri": "https://localhost:8080/",
          "height": 356
        },
        "id": "0v2TFqU6DxVq",
        "outputId": "31abbd78-bdc4-4a13-940b-e0191c3428c9"
      },
      "execution_count": 26,
      "outputs": [
        {
          "output_type": "stream",
          "name": "stdout",
          "text": [
            "{'train': {'accuracy': [0.79, 0.82, 0.75, 0.79, 0.74, 0.82, 0.71, 0.75, 0.75, 0.8, 0.79, 0.8, 0.8, 0.82, 0.83, 0.76, 0.8, 0.74, 0.77, 0.74, 0.72, 0.8, 0.79, 0.8, 0.78, 0.79, 0.79, 0.74, 0.83, 0.83, 0.72, 0.83, 0.75, 0.86, 0.81, 0.77, 0.81, 0.74, 0.79, 0.82, 0.81, 0.79, 0.82, 0.82, 0.84, 0.8, 0.83, 0.84, 0.75, 0.8, 0.87, 0.83, 0.85, 0.85, 0.86, 0.81, 0.82, 0.86, 0.91, 0.84, 0.87, 0.82, 0.86, 0.83, 0.89, 0.83, 0.87, 0.81, 0.88, 0.85, 0.84, 0.87, 0.76, 0.87, 0.86, 0.83, 0.89], 'recall_macro': [0.5, 0.5, 0.5, 0.5, 0.5, 0.5, 0.5, 0.537037037037037, 0.5689655172413793, 0.6533333333333333, 0.6369463869463869, 0.6831140350877193, 0.7061680427391938, 0.7333333333333334, 0.657859078590786, 0.691468253968254, 0.7160940325497287, 0.6431585292344786, 0.6429539295392954, 0.6666666666666667, 0.6636904761904762, 0.7086247086247086, 0.6625, 0.6566911349520045, 0.6699561403508771, 0.7123015873015872, 0.6695804195804196, 0.6482213438735178, 0.7201927955352613, 0.7525617842073538, 0.6595365418894831, 0.7853430353430353, 0.650219298245614, 0.78125, 0.7, 0.6875, 0.6987179487179487, 0.6714285714285715, 0.6866666666666666, 0.6888111888111889, 0.6411764705882352, 0.7335526315789473, 0.7162162162162162, 0.7044649184975195, 0.7866666666666666, 0.6902286902286903, 0.7578921806702282, 0.75, 0.6599999999999999, 0.6811332127787824, 0.8340108401084011, 0.7676453980801807, 0.7666666666666666, 0.8385780885780886, 0.8123543123543124, 0.6984408221119773, 0.7278525868178597, 0.8128654970760234, 0.8653303218520609, 0.76, 0.8123700623700624, 0.7478882391163093, 0.809724170172978, 0.7676453980801807, 0.7905364677516576, 0.7516611295681064, 0.8200000000000001, 0.7698412698412699, 0.8458498023715415, 0.8194444444444444, 0.7588908981314044, 0.8299632352941176, 0.6722475900558093, 0.8051470588235294, 0.7796052631578947, 0.78, 0.8218520609824957], 'recall_micro': [0.79, 0.82, 0.75, 0.79, 0.74, 0.82, 0.71, 0.75, 0.75, 0.8, 0.79, 0.8, 0.8, 0.82, 0.83, 0.76, 0.8, 0.74, 0.77, 0.74, 0.72, 0.8, 0.79, 0.8, 0.78, 0.79, 0.79, 0.74, 0.83, 0.83, 0.72, 0.83, 0.75, 0.86, 0.81, 0.77, 0.81, 0.74, 0.79, 0.82, 0.81, 0.79, 0.82, 0.82, 0.84, 0.8, 0.83, 0.84, 0.75, 0.8, 0.87, 0.83, 0.85, 0.85, 0.86, 0.81, 0.82, 0.86, 0.91, 0.84, 0.87, 0.82, 0.86, 0.83, 0.89, 0.83, 0.87, 0.81, 0.88, 0.85, 0.84, 0.87, 0.76, 0.87, 0.86, 0.83, 0.89], 'precisions_mac': [0.395, 0.41, 0.375, 0.395, 0.37, 0.41, 0.355, 0.8724489795918368, 0.8697916666666667, 0.7541998231653404, 0.6843137254901961, 0.7262872628726287, 0.7758284600389863, 0.7637130801687764, 0.7060123784261716, 0.7006237006237006, 0.7024280067758328, 0.6266666666666667, 0.6271850512356841, 0.6746361746361746, 0.6571428571428571, 0.7086247086247086, 0.6689408706952567, 0.7176470588235294, 0.6937500000000001, 0.7416713721061547, 0.6890838206627681, 0.64, 0.8229166666666667, 0.7441724941724942, 0.6860706860706861, 0.7785388127853881, 0.6547148503670244, 0.78125, 0.7540650406504065, 0.66, 0.721572449642625, 0.687110187110187, 0.71875, 0.7410714285714286, 0.6339285714285714, 0.7161339421613394, 0.7818428184281843, 0.6874593892137751, 0.7866666666666666, 0.7479674796747967, 0.8094405594405594, 0.75, 0.6644736842105263, 0.6952566601689408, 0.7783738001129306, 0.7598684210526316, 0.8125, 0.7821758135016998, 0.7938596491228069, 0.675, 0.6937914406268837, 0.771880293619424, 0.877039627039627, 0.7938517179023508, 0.839356295878035, 0.7154150197628458, 0.8533333333333333, 0.7598684210526316, 0.8586309523809523, 0.6826401446654611, 0.8289473684210527, 0.7642059252064108, 0.8266666666666667, 0.8127731908693541, 0.7588908981314044, 0.8642820903094875, 0.691699604743083, 0.9002411091018685, 0.81875, 0.7728690228690229, 0.85625], 'precisions_mic': [0.79, 0.82, 0.75, 0.79, 0.74, 0.82, 0.71, 0.75, 0.75, 0.8, 0.79, 0.8, 0.8, 0.82, 0.83, 0.76, 0.8, 0.74, 0.77, 0.74, 0.72, 0.8, 0.79, 0.8, 0.78, 0.79, 0.79, 0.74, 0.83, 0.83, 0.72, 0.83, 0.75, 0.86, 0.81, 0.77, 0.81, 0.74, 0.79, 0.82, 0.81, 0.79, 0.82, 0.82, 0.84, 0.8, 0.83, 0.84, 0.75, 0.8, 0.87, 0.83, 0.85, 0.85, 0.86, 0.81, 0.82, 0.86, 0.91, 0.84, 0.87, 0.82, 0.86, 0.83, 0.89, 0.83, 0.87, 0.81, 0.88, 0.85, 0.84, 0.87, 0.76, 0.87, 0.86, 0.83, 0.89], 'f1s_mac': [0.44134078212290506, 0.45054945054945056, 0.42857142857142855, 0.44134078212290506, 0.42528735632183906, 0.45054945054945056, 0.4152046783625731, 0.495866102036701, 0.5463618218109235, 0.6751137102014295, 0.6517990383021057, 0.6986136226642556, 0.7258771929824561, 0.745906267645398, 0.6755105936247375, 0.69558599695586, 0.7086247086247086, 0.6329757199322417, 0.6336996336996337, 0.6702181633688484, 0.6600291403593977, 0.7086247086247086, 0.6655518394648829, 0.6751137102014295, 0.6794871794871795, 0.7236478484011054, 0.6778647031753336, 0.643640350877193, 0.7481854540068138, 0.7481854540068138, 0.6666666666666667, 0.7817995122577333, 0.6523432067862606, 0.78125, 0.718560213301733, 0.6702508960573477, 0.7085442552538732, 0.6775793650793651, 0.6989247311827955, 0.7076023391812866, 0.6373353693452949, 0.7236478484011054, 0.7377622377622377, 0.6951219512195121, 0.7866666666666666, 0.7086247086247086, 0.7762863534675615, 0.75, 0.662116502230031, 0.6875, 0.8005829114894922, 0.7635933806146572, 0.7849462365591398, 0.8026056060007896, 0.8023715415019763, 0.6849610346542861, 0.7076023391812865, 0.7890295358649789, 0.8709677419354839, 0.7741389045736871, 0.8243005811596161, 0.72875226039783, 0.8263888888888888, 0.7635933806146572, 0.8176090200630077, 0.7056277056277057, 0.8243005811596162, 0.7668997668997668, 0.8355263157894737, 0.8159735001840265, 0.7588908981314044, 0.8437312176944344, 0.68, 0.8331408034912078, 0.7960372960372959, 0.7762863534675615, 0.8370611761220559], 'f1s_mic': [0.79, 0.82, 0.75, 0.79, 0.74, 0.82, 0.7100000000000001, 0.75, 0.75, 0.8000000000000002, 0.79, 0.8000000000000002, 0.8000000000000002, 0.82, 0.83, 0.76, 0.8000000000000002, 0.74, 0.7699999999999999, 0.74, 0.72, 0.8000000000000002, 0.79, 0.8000000000000002, 0.78, 0.79, 0.79, 0.74, 0.83, 0.83, 0.72, 0.83, 0.75, 0.8599999999999999, 0.81, 0.7699999999999999, 0.81, 0.74, 0.79, 0.82, 0.81, 0.79, 0.82, 0.82, 0.8399999999999999, 0.8000000000000002, 0.83, 0.8399999999999999, 0.75, 0.8000000000000002, 0.87, 0.83, 0.85, 0.85, 0.8599999999999999, 0.81, 0.82, 0.8599999999999999, 0.91, 0.8399999999999999, 0.87, 0.82, 0.8599999999999999, 0.83, 0.89, 0.83, 0.87, 0.81, 0.88, 0.85, 0.8399999999999999, 0.87, 0.76, 0.87, 0.8599999999999999, 0.83, 0.89], 'losses': [0.6772900819778442, 0.5902953147888184, 0.6273069381713867, 0.5790261626243591, 0.6219409704208374, 0.5481182932853699, 0.6016804575920105, 0.5865489840507507, 0.5609965324401855, 0.5437354445457458, 0.4843578338623047, 0.4963945746421814, 0.4674948751926422, 0.44747644662857056, 0.4925525486469269, 0.4279614984989166, 0.36093634366989136, 0.4544866979122162, 0.48935645818710327, 0.36180761456489563, 0.43903911113739014, 0.45081278681755066, 0.4142961800098419, 0.3682878017425537, 0.45408186316490173, 0.24923892319202423, 0.2807074785232544, 0.33287665247917175, 0.3696509897708893, 0.22947756946086884, 0.3909187316894531, 0.1190870925784111, 0.3796144723892212, 0.18730531632900238, 0.27978843450546265, 0.20433251559734344, 0.05615110695362091, 0.36771050095558167, 0.5132256150245667, 0.3701896071434021, 0.424430251121521, 0.26248228549957275, 0.4431491494178772, 0.3999755084514618, 0.3648422658443451, 0.3660406768321991, -0.1284138709306717, 0.2626887857913971, 0.3687020540237427, 0.20637907087802887, 0.2730174660682678, 0.20888954401016235, 0.18254190683364868, 0.11400314420461655, 0.05813249573111534, 0.30221691727638245, 0.3613035976886749, 0.19791364669799805, -0.11717262119054794, 0.18053390085697174, 0.14290937781333923, 0.3199983239173889, -0.5969358682632446, 0.17166826128959656, -0.10372665524482727, 0.4361186921596527, -0.7731577754020691, 0.3298664093017578, 0.11213202029466629, -0.257720947265625, -0.6649025678634644, 0.05353909358382225, 0.5017167329788208, 0.1523631066083908, 0.273452490568161, -0.5424045324325562, -0.11485931277275085]}, 'validation': {'accuracy': [1.0, 0.3333333333333333, 0.0, 0.6666666666666666, 0.3333333333333333, 1.0, 0.6666666666666666, 1.0, 0.6666666666666666, 1.0, 1.0, 1.0, 1.0, 0.3333333333333333, 1.0, 0.6666666666666666, 1.0, 0.6666666666666666, 0.6666666666666666, 0.3333333333333333, 1.0, 0.6666666666666666, 1.0, 0.6666666666666666, 1.0, 0.3333333333333333, 0.6666666666666666, 0.6666666666666666, 1.0, 0.6666666666666666, 1.0, 1.0, 0.6666666666666666, 1.0, 0.3333333333333333, 1.0, 0.6666666666666666, 1.0, 1.0, 1.0, 1.0, 1.0, 0.3333333333333333, 0.6666666666666666, 1.0, 0.6666666666666666, 0.6666666666666666, 1.0, 1.0, 0.3333333333333333, 0.6666666666666666, 1.0, 0.6666666666666666, 0.3333333333333333, 1.0, 1.0, 0.3333333333333333, 1.0, 1.0, 0.6666666666666666, 1.0, 1.0, 0.3333333333333333, 1.0, 0.6666666666666666, 1.0, 1.0, 0.6666666666666666, 1.0, 1.0, 1.0, 1.0, 0.6666666666666666, 0.6666666666666666, 0.3333333333333333, 0.6666666666666666, 1.0], 'recall_macro': [1.0, 0.5, 0.0, 0.5, 0.5, 1.0, 0.5, 1.0, 0.5, 1.0, 1.0, 1.0, 1.0, 0.25, 1.0, 0.75, 1.0, 0.75, 0.3333333333333333, 0.16666666666666666, 1.0, 0.3333333333333333, 1.0, 0.5, 1.0, 0.5, 0.75, 0.3333333333333333, 1.0, 0.3333333333333333, 1.0, 1.0, 0.75, 1.0, 0.25, 1.0, 0.3333333333333333, 1.0, 1.0, 1.0, 1.0, 1.0, 0.16666666666666666, 0.5, 1.0, 0.75, 0.75, 1.0, 1.0, 0.25, 0.3333333333333333, 1.0, 0.75, 0.5, 1.0, 1.0, 0.25, 1.0, 1.0, 0.75, 1.0, 1.0, 0.25, 1.0, 0.75, 1.0, 1.0, 0.5, 1.0, 1.0, 1.0, 1.0, 0.3333333333333333, 0.75, 0.16666666666666666, 0.3333333333333333, 1.0], 'recall_micro': [1.0, 0.3333333333333333, 0.0, 0.6666666666666666, 0.3333333333333333, 1.0, 0.6666666666666666, 1.0, 0.6666666666666666, 1.0, 1.0, 1.0, 1.0, 0.3333333333333333, 1.0, 0.6666666666666666, 1.0, 0.6666666666666666, 0.6666666666666666, 0.3333333333333333, 1.0, 0.6666666666666666, 1.0, 0.6666666666666666, 1.0, 0.3333333333333333, 0.6666666666666666, 0.6666666666666666, 1.0, 0.6666666666666666, 1.0, 1.0, 0.6666666666666666, 1.0, 0.3333333333333333, 1.0, 0.6666666666666666, 1.0, 1.0, 1.0, 1.0, 1.0, 0.3333333333333333, 0.6666666666666666, 1.0, 0.6666666666666666, 0.6666666666666666, 1.0, 1.0, 0.3333333333333333, 0.6666666666666666, 1.0, 0.6666666666666666, 0.3333333333333333, 1.0, 1.0, 0.3333333333333333, 1.0, 1.0, 0.6666666666666666, 1.0, 1.0, 0.3333333333333333, 1.0, 0.6666666666666666, 1.0, 1.0, 0.6666666666666666, 1.0, 1.0, 1.0, 1.0, 0.6666666666666666, 0.6666666666666666, 0.3333333333333333, 0.6666666666666666, 1.0], 'precisions_mac': [1.0, 0.16666666666666666, 0.0, 0.3333333333333333, 0.16666666666666666, 1.0, 0.3333333333333333, 1.0, 0.3333333333333333, 1.0, 1.0, 1.0, 1.0, 0.25, 1.0, 0.75, 1.0, 0.75, 0.5, 0.5, 1.0, 0.5, 1.0, 0.3333333333333333, 1.0, 0.16666666666666666, 0.75, 0.5, 1.0, 0.5, 1.0, 1.0, 0.75, 1.0, 0.25, 1.0, 0.5, 1.0, 1.0, 1.0, 1.0, 1.0, 0.5, 0.3333333333333333, 1.0, 0.75, 0.75, 1.0, 1.0, 0.25, 0.5, 1.0, 0.75, 0.16666666666666666, 1.0, 1.0, 0.25, 1.0, 1.0, 0.75, 1.0, 1.0, 0.25, 1.0, 0.75, 1.0, 1.0, 0.3333333333333333, 1.0, 1.0, 1.0, 1.0, 0.5, 0.75, 0.5, 0.5, 1.0], 'precisions_mic': [1.0, 0.3333333333333333, 0.0, 0.6666666666666666, 0.3333333333333333, 1.0, 0.6666666666666666, 1.0, 0.6666666666666666, 1.0, 1.0, 1.0, 1.0, 0.3333333333333333, 1.0, 0.6666666666666666, 1.0, 0.6666666666666666, 0.6666666666666666, 0.3333333333333333, 1.0, 0.6666666666666666, 1.0, 0.6666666666666666, 1.0, 0.3333333333333333, 0.6666666666666666, 0.6666666666666666, 1.0, 0.6666666666666666, 1.0, 1.0, 0.6666666666666666, 1.0, 0.3333333333333333, 1.0, 0.6666666666666666, 1.0, 1.0, 1.0, 1.0, 1.0, 0.3333333333333333, 0.6666666666666666, 1.0, 0.6666666666666666, 0.6666666666666666, 1.0, 1.0, 0.3333333333333333, 0.6666666666666666, 1.0, 0.6666666666666666, 0.3333333333333333, 1.0, 1.0, 0.3333333333333333, 1.0, 1.0, 0.6666666666666666, 1.0, 1.0, 0.3333333333333333, 1.0, 0.6666666666666666, 1.0, 1.0, 0.6666666666666666, 1.0, 1.0, 1.0, 1.0, 0.6666666666666666, 0.6666666666666666, 0.3333333333333333, 0.6666666666666666, 1.0], 'f1s_mac': [1.0, 0.25, 0.0, 0.4, 0.25, 1.0, 0.4, 1.0, 0.4, 1.0, 1.0, 1.0, 1.0, 0.25, 1.0, 0.6666666666666666, 1.0, 0.6666666666666666, 0.4, 0.25, 1.0, 0.4, 1.0, 0.4, 1.0, 0.25, 0.6666666666666666, 0.4, 1.0, 0.4, 1.0, 1.0, 0.6666666666666666, 1.0, 0.25, 1.0, 0.4, 1.0, 1.0, 1.0, 1.0, 1.0, 0.25, 0.4, 1.0, 0.6666666666666666, 0.6666666666666666, 1.0, 1.0, 0.25, 0.4, 1.0, 0.6666666666666666, 0.25, 1.0, 1.0, 0.25, 1.0, 1.0, 0.6666666666666666, 1.0, 1.0, 0.25, 1.0, 0.6666666666666666, 1.0, 1.0, 0.4, 1.0, 1.0, 1.0, 1.0, 0.4, 0.6666666666666666, 0.25, 0.4, 1.0], 'f1s_mic': [1.0, 0.3333333333333333, 0.0, 0.6666666666666666, 0.3333333333333333, 1.0, 0.6666666666666666, 1.0, 0.6666666666666666, 1.0, 1.0, 1.0, 1.0, 0.3333333333333333, 1.0, 0.6666666666666666, 1.0, 0.6666666666666666, 0.6666666666666666, 0.3333333333333333, 1.0, 0.6666666666666666, 1.0, 0.6666666666666666, 1.0, 0.3333333333333333, 0.6666666666666666, 0.6666666666666666, 1.0, 0.6666666666666666, 1.0, 1.0, 0.6666666666666666, 1.0, 0.3333333333333333, 1.0, 0.6666666666666666, 1.0, 1.0, 1.0, 1.0, 1.0, 0.3333333333333333, 0.6666666666666666, 1.0, 0.6666666666666666, 0.6666666666666666, 1.0, 1.0, 0.3333333333333333, 0.6666666666666666, 1.0, 0.6666666666666666, 0.3333333333333333, 1.0, 1.0, 0.3333333333333333, 1.0, 1.0, 0.6666666666666666, 1.0, 1.0, 0.3333333333333333, 1.0, 0.6666666666666666, 1.0, 1.0, 0.6666666666666666, 1.0, 1.0, 1.0, 1.0, 0.6666666666666666, 0.6666666666666666, 0.3333333333333333, 0.6666666666666666, 1.0], 'losses': [0.47559985518455505, 1.3667562007904053, 1.942936658859253, 0.9246187210083008, 0.80815190076828, 0.41653984785079956, 0.5200212597846985, 0.45713531970977783, 0.625861644744873, 0.48670071363449097, 0.44951313734054565, 0.35781407356262207, 0.42103180289268494, 0.6931095123291016, 0.28828245401382446, 0.5834479331970215, 0.3610690236091614, 0.4500052332878113, 0.4480501413345337, 0.6802815198898315, 0.3557884097099304, 0.419392466545105, 0.27769747376441956, 0.44884631037712097, 0.20330092310905457, 0.7639462351799011, 0.573286771774292, 0.4865745007991791, 0.3084533214569092, 0.5108333826065063, 0.43643125891685486, 0.1382170170545578, 0.7065488696098328, 0.31634652614593506, 0.7852592468261719, 0.13524246215820312, 0.8131409883499146, 0.3096477687358856, -0.3676156997680664, 0.33713293075561523, 0.30631059408187866, 0.23703229427337646, 1.4380873441696167, 0.6144527196884155, 0.35179948806762695, -1.1032955646514893, -1.718900203704834, -0.9581698179244995, 0.3161429166793823, 0.9745556712150574, 0.5083470344543457, 0.1487656533718109, 0.9010792970657349, 0.4816382825374603, 0.059635620564222336, -1.1179417371749878, 2.028632164001465, 0.08535962551832199, -1.2186987400054932, -0.1767345368862152, 0.081618532538414, 0.08687026798725128, 0.9717726707458496, 0.08776714652776718, 0.5842559337615967, -13.456981658935547, 0.3407079875469208, 0.4466022849082947, 0.10780514776706696, 0.08977526426315308, -3.081287384033203, 0.06923643499612808, 0.29165637493133545, -2.1609697341918945, 1.0755380392074585, 0.8919862508773804, 0.3957209587097168]}}\n",
            "{'train': {'accuracy': [0.76, 0.73, 0.81, 0.85, 0.82, 0.79, 0.89, 0.7, 0.82, 0.86, 0.86, 0.85, 0.81, 0.93, 0.85, 0.86, 0.87, 0.89, 0.85, 0.88, 0.85, 0.92, 0.88, 0.87, 0.92, 0.92, 0.86, 0.92, 0.91, 0.95, 0.94, 0.92, 0.93, 0.89, 0.94, 0.95, 0.93, 0.91, 0.91, 0.95, 0.95, 0.89, 0.91, 0.92, 0.92, 0.92, 0.92, 0.94, 0.93, 0.94, 0.89, 0.87, 0.94, 0.89, 0.93, 0.89, 0.93, 0.9, 0.95, 0.9, 0.9, 0.91, 0.91, 0.93, 0.94, 0.88, 0.93, 0.9, 0.94, 0.91, 0.9, 0.95, 0.93, 0.93, 0.9, 0.92, 0.94], 'recall_macro': [0.4935064935064935, 0.5494273658830621, 0.6007147498375568, 0.7896270396270396, 0.7611518915866742, 0.6927955352612887, 0.7934089298369951, 0.6877637130801688, 0.7638146167557933, 0.7874175545408422, 0.8400000000000001, 0.7757936507936507, 0.7404761904761905, 0.878317334839074, 0.7733100233100233, 0.8065099457504521, 0.7758620689655172, 0.8152680652680653, 0.769047619047619, 0.7873848334514528, 0.7872807017543859, 0.8518518518518519, 0.83125, 0.8652802893309222, 0.9103313840155945, 0.861842105263158, 0.796037296037296, 0.8461538461538461, 0.9077343421605717, 0.8529411764705883, 0.9270644966847499, 0.8586278586278586, 0.9240542066629023, 0.9125, 0.8549019607843137, 0.8984327908378542, 0.878317334839074, 0.877039627039627, 0.8643451143451144, 0.9353146853146853, 0.8885640025990903, 0.8757796257796258, 0.8556359252561784, 0.8508158508158508, 0.8260869565217391, 0.8901884340480831, 0.9046052631578947, 0.9320175438596491, 0.911904761904762, 0.9305477131564088, 0.8515269655620532, 0.7778782399035564, 0.9620253164556962, 0.8315850815850816, 0.8997085964060223, 0.8466666666666667, 0.9032549728752259, 0.8914473684210527, 0.8827913279132791, 0.7380952380952381, 0.91875, 0.8393970893970895, 0.8269230769230769, 0.8999999999999999, 0.9, 0.8686302010285181, 0.9028066528066527, 0.79785431959345, 0.8766937669376693, 0.8805759457933371, 0.8201754385964912, 0.9261517615176151, 0.8541666666666667, 0.9392998306041784, 0.9045736871823828, 0.8671328671328671, 0.9037698412698413], 'recall_micro': [0.76, 0.73, 0.81, 0.85, 0.82, 0.79, 0.89, 0.7, 0.82, 0.86, 0.86, 0.85, 0.81, 0.93, 0.85, 0.86, 0.87, 0.89, 0.85, 0.88, 0.85, 0.92, 0.88, 0.87, 0.92, 0.92, 0.86, 0.92, 0.91, 0.95, 0.94, 0.92, 0.93, 0.89, 0.94, 0.95, 0.93, 0.91, 0.91, 0.95, 0.95, 0.89, 0.91, 0.92, 0.92, 0.92, 0.92, 0.94, 0.93, 0.94, 0.89, 0.87, 0.94, 0.89, 0.93, 0.89, 0.93, 0.9, 0.95, 0.9, 0.9, 0.91, 0.91, 0.93, 0.94, 0.88, 0.93, 0.9, 0.94, 0.91, 0.9, 0.95, 0.93, 0.93, 0.9, 0.92, 0.94], 'precisions_mac': [0.3838383838383838, 0.5610119047619048, 0.6722222222222223, 0.7806324110671936, 0.7466666666666666, 0.7375, 0.8080357142857143, 0.6336336336336337, 0.8245614035087719, 0.8414707655213984, 0.8096163186012628, 0.8351416515973478, 0.7851496329757199, 0.91875, 0.7827004219409283, 0.7871259175607002, 0.9226190476190477, 0.8515269655620532, 0.8671215074723846, 0.7873848334514528, 0.7958780350084698, 0.9506172839506173, 0.8088578088578089, 0.8005952380952381, 0.8565782044042913, 0.9125000000000001, 0.796037296037296, 0.9512195121951219, 0.9041666666666667, 0.9715909090909092, 0.9000564652738565, 0.9312499999999999, 0.8903326403326404, 0.820543953375425, 0.9000884173297966, 0.9478319783197832, 0.91875, 0.8653303218520609, 0.8958215697346132, 0.9217955957086392, 0.9449404761904762, 0.8511413307430791, 0.86875, 0.9078590785907859, 0.9529411764705882, 0.861965039180229, 0.8835758835758836, 0.9095634095634095, 0.9201068479844585, 0.9066666666666667, 0.8152680652680653, 0.8123306233062331, 0.8888888888888888, 0.8429776974080772, 0.9277546777546778, 0.8563596491228069, 0.8898601398601399, 0.8541666666666667, 0.9431372549019608, 0.8555555555555556, 0.8323412698412699, 0.924301494476933, 0.9457831325301205, 0.8857745629897529, 0.9605263157894737, 0.856625961103573, 0.9133333333333333, 0.9137254901960785, 0.9136904761904762, 0.8695175438596491, 0.8956639566395663, 0.9087069525666016, 0.9578313253012047, 0.8859126984126984, 0.8479844584749878, 0.89375, 0.9462719298245614], 'precisions_mic': [0.76, 0.73, 0.81, 0.85, 0.82, 0.79, 0.89, 0.7, 0.82, 0.86, 0.86, 0.85, 0.81, 0.93, 0.85, 0.86, 0.87, 0.89, 0.85, 0.88, 0.85, 0.92, 0.88, 0.87, 0.92, 0.92, 0.86, 0.92, 0.91, 0.95, 0.94, 0.92, 0.93, 0.89, 0.94, 0.95, 0.93, 0.91, 0.91, 0.95, 0.95, 0.89, 0.91, 0.92, 0.92, 0.92, 0.92, 0.94, 0.93, 0.94, 0.89, 0.87, 0.94, 0.89, 0.93, 0.89, 0.93, 0.9, 0.95, 0.9, 0.9, 0.91, 0.91, 0.93, 0.94, 0.88, 0.93, 0.9, 0.94, 0.91, 0.9, 0.95, 0.93, 0.93, 0.9, 0.92, 0.94], 'f1s_mac': [0.43181818181818177, 0.5523130492455646, 0.6168582375478928, 0.7849462365591398, 0.7532894736842106, 0.7079682937004589, 0.8003992015968064, 0.6357455075279261, 0.7814473045167557, 0.8081140350877194, 0.8224251648909183, 0.7972699013380187, 0.756128866640996, 0.8963116575322174, 0.7778106947118946, 0.7960372960372961, 0.8136200716845878, 0.8312624635680319, 0.7972699013380187, 0.7873848334514528, 0.7914059240717564, 0.8870694522868436, 0.8191681735985534, 0.8243005811596162, 0.8794454490657022, 0.8834498834498836, 0.796037296037296, 0.8834498834498834, 0.9058478920389164, 0.8991732204073402, 0.9125874125874125, 0.8870694522868436, 0.9053926206244087, 0.8513312609812137, 0.8754152823920265, 0.9203694855868769, 0.8963116575322174, 0.8709677419354839, 0.8783619408028112, 0.9283154121863799, 0.9134199134199135, 0.8620689655172413, 0.8619420156465716, 0.875, 0.8700454840805718, 0.875, 0.8933333333333333, 0.9199999999999999, 0.915855271066234, 0.9177631578947367, 0.8312624635680319, 0.7929606625258799, 0.917763157894737, 0.8370611761220561, 0.9122257053291536, 0.8513312609812136, 0.8963116575322174, 0.8700623700623701, 0.9092723643621847, 0.7789566755083996, 0.8629385964912282, 0.8709677419354839, 0.8666864168271368, 0.8926215677251113, 0.923896499238965, 0.8621323529411764, 0.9078826161337017, 0.8375568551007146, 0.8936924167257265, 0.8748435544430537, 0.8493068113321278, 0.9170950091195491, 0.8926215677251113, 0.9078826161337018, 0.87006237006237, 0.8794454490657022, 0.9220374220374221], 'f1s_mic': [0.76, 0.7299999999999999, 0.81, 0.85, 0.82, 0.79, 0.89, 0.7, 0.82, 0.8599999999999999, 0.8599999999999999, 0.85, 0.81, 0.93, 0.85, 0.8599999999999999, 0.87, 0.89, 0.85, 0.88, 0.85, 0.92, 0.88, 0.87, 0.92, 0.92, 0.8599999999999999, 0.92, 0.91, 0.9500000000000001, 0.94, 0.92, 0.93, 0.89, 0.94, 0.9500000000000001, 0.93, 0.91, 0.91, 0.9500000000000001, 0.9500000000000001, 0.89, 0.91, 0.92, 0.92, 0.92, 0.92, 0.94, 0.93, 0.94, 0.89, 0.87, 0.94, 0.89, 0.93, 0.89, 0.93, 0.9, 0.9500000000000001, 0.9, 0.9, 0.91, 0.91, 0.93, 0.94, 0.88, 0.93, 0.9, 0.94, 0.91, 0.9, 0.9500000000000001, 0.93, 0.93, 0.9, 0.92, 0.94], 'losses': [0.7100805640220642, 0.5618562698364258, 0.4188448488712311, 0.3598141372203827, 0.2533188462257385, 0.274716317653656, 0.2816862463951111, 0.4995506703853607, 0.04355693608522415, -0.29635924100875854, 0.17446346580982208, -0.19855208694934845, 0.10055103152990341, -0.21073481440544128, 0.08795622736215591, -0.08475545793771744, -0.008821391500532627, -0.7305698394775391, -0.3978390395641327, -0.10696034878492355, -1.0783753395080566, -0.034144915640354156, -0.26826322078704834, -0.15572059154510498, -0.20762072503566742, -0.2849864959716797, -0.49829360842704773, -0.5400277972221375, -1.0493218898773193, -0.6285547018051147, -0.3175002336502075, -0.422268271446228, 0.11796253174543381, -0.6475397944450378, -0.6811063885688782, -0.04790676385164261, -0.8110836744308472, -1.1130880117416382, -3.5882623195648193, -0.4817562699317932, -0.7341364026069641, -0.7686214447021484, -0.6858932971954346, -0.2808762490749359, -1.3635516166687012, 0.05060657486319542, -0.30500343441963196, -0.9889631271362305, -1.2690298557281494, -2.0464894771575928, -1.1981226205825806, -1.4865179061889648, -0.7107009887695312, 0.171953022480011, -1.065922498703003, -0.9881623387336731, -0.18825609982013702, -1.3264386653900146, -1.7151888608932495, -0.2958822250366211, -0.29505646228790283, -1.001077651977539, -0.13145627081394196, -0.13438104093074799, -0.638042688369751, -0.3935716450214386, -0.9056631922721863, -0.8008701205253601, -0.1304112821817398, -0.44440513849258423, -1.2985399961471558, -2.193195104598999, -1.7500076293945312, -1.7425463199615479, -0.38601431250572205, -0.5642850399017334, -2.2567708492279053]}, 'validation': {'accuracy': [0.3333333333333333, 1.0, 1.0, 1.0, 0.6666666666666666, 1.0, 1.0, 1.0, 1.0, 0.6666666666666666, 1.0, 0.3333333333333333, 1.0, 0.6666666666666666, 1.0, 1.0, 1.0, 1.0, 1.0, 0.6666666666666666, 0.6666666666666666, 1.0, 0.6666666666666666, 1.0, 1.0, 1.0, 0.6666666666666666, 0.6666666666666666, 0.3333333333333333, 1.0, 1.0, 1.0, 1.0, 1.0, 1.0, 1.0, 0.3333333333333333, 1.0, 0.6666666666666666, 1.0, 0.6666666666666666, 1.0, 1.0, 1.0, 1.0, 1.0, 1.0, 1.0, 1.0, 1.0, 1.0, 0.6666666666666666, 1.0, 1.0, 1.0, 1.0, 1.0, 0.6666666666666666, 0.6666666666666666, 1.0, 1.0, 1.0, 1.0, 1.0, 1.0, 1.0, 1.0, 0.6666666666666666, 1.0, 0.6666666666666666, 1.0, 1.0, 1.0, 1.0, 1.0, 1.0, 0.6666666666666666], 'recall_macro': [0.5, 1.0, 1.0, 1.0, 0.5, 1.0, 1.0, 1.0, 1.0, 0.5, 1.0, 0.25, 1.0, 0.5, 1.0, 1.0, 1.0, 1.0, 1.0, 0.3333333333333333, 0.3333333333333333, 1.0, 0.5, 1.0, 1.0, 1.0, 0.5, 0.3333333333333333, 0.25, 1.0, 1.0, 1.0, 1.0, 1.0, 1.0, 1.0, 0.5, 1.0, 0.5, 1.0, 0.5, 1.0, 1.0, 1.0, 1.0, 1.0, 1.0, 1.0, 1.0, 1.0, 1.0, 0.75, 1.0, 1.0, 1.0, 1.0, 1.0, 0.5, 0.75, 1.0, 1.0, 1.0, 1.0, 1.0, 1.0, 1.0, 1.0, 0.5, 1.0, 0.3333333333333333, 1.0, 1.0, 1.0, 1.0, 1.0, 1.0, 0.75], 'recall_micro': [0.3333333333333333, 1.0, 1.0, 1.0, 0.6666666666666666, 1.0, 1.0, 1.0, 1.0, 0.6666666666666666, 1.0, 0.3333333333333333, 1.0, 0.6666666666666666, 1.0, 1.0, 1.0, 1.0, 1.0, 0.6666666666666666, 0.6666666666666666, 1.0, 0.6666666666666666, 1.0, 1.0, 1.0, 0.6666666666666666, 0.6666666666666666, 0.3333333333333333, 1.0, 1.0, 1.0, 1.0, 1.0, 1.0, 1.0, 0.3333333333333333, 1.0, 0.6666666666666666, 1.0, 0.6666666666666666, 1.0, 1.0, 1.0, 1.0, 1.0, 1.0, 1.0, 1.0, 1.0, 1.0, 0.6666666666666666, 1.0, 1.0, 1.0, 1.0, 1.0, 0.6666666666666666, 0.6666666666666666, 1.0, 1.0, 1.0, 1.0, 1.0, 1.0, 1.0, 1.0, 0.6666666666666666, 1.0, 0.6666666666666666, 1.0, 1.0, 1.0, 1.0, 1.0, 1.0, 0.6666666666666666], 'precisions_mac': [0.16666666666666666, 1.0, 1.0, 1.0, 0.3333333333333333, 1.0, 1.0, 1.0, 1.0, 0.3333333333333333, 1.0, 0.25, 1.0, 0.3333333333333333, 1.0, 1.0, 1.0, 1.0, 1.0, 0.5, 0.5, 1.0, 0.3333333333333333, 1.0, 1.0, 1.0, 0.3333333333333333, 0.5, 0.25, 1.0, 1.0, 1.0, 1.0, 1.0, 1.0, 1.0, 0.16666666666666666, 1.0, 0.3333333333333333, 1.0, 0.3333333333333333, 1.0, 1.0, 1.0, 1.0, 1.0, 1.0, 1.0, 1.0, 1.0, 1.0, 0.75, 1.0, 1.0, 1.0, 1.0, 1.0, 0.3333333333333333, 0.75, 1.0, 1.0, 1.0, 1.0, 1.0, 1.0, 1.0, 1.0, 0.3333333333333333, 1.0, 0.5, 1.0, 1.0, 1.0, 1.0, 1.0, 1.0, 0.75], 'precisions_mic': [0.3333333333333333, 1.0, 1.0, 1.0, 0.6666666666666666, 1.0, 1.0, 1.0, 1.0, 0.6666666666666666, 1.0, 0.3333333333333333, 1.0, 0.6666666666666666, 1.0, 1.0, 1.0, 1.0, 1.0, 0.6666666666666666, 0.6666666666666666, 1.0, 0.6666666666666666, 1.0, 1.0, 1.0, 0.6666666666666666, 0.6666666666666666, 0.3333333333333333, 1.0, 1.0, 1.0, 1.0, 1.0, 1.0, 1.0, 0.3333333333333333, 1.0, 0.6666666666666666, 1.0, 0.6666666666666666, 1.0, 1.0, 1.0, 1.0, 1.0, 1.0, 1.0, 1.0, 1.0, 1.0, 0.6666666666666666, 1.0, 1.0, 1.0, 1.0, 1.0, 0.6666666666666666, 0.6666666666666666, 1.0, 1.0, 1.0, 1.0, 1.0, 1.0, 1.0, 1.0, 0.6666666666666666, 1.0, 0.6666666666666666, 1.0, 1.0, 1.0, 1.0, 1.0, 1.0, 0.6666666666666666], 'f1s_mac': [0.25, 1.0, 1.0, 1.0, 0.4, 1.0, 1.0, 1.0, 1.0, 0.4, 1.0, 0.25, 1.0, 0.4, 1.0, 1.0, 1.0, 1.0, 1.0, 0.4, 0.4, 1.0, 0.4, 1.0, 1.0, 1.0, 0.4, 0.4, 0.25, 1.0, 1.0, 1.0, 1.0, 1.0, 1.0, 1.0, 0.25, 1.0, 0.4, 1.0, 0.4, 1.0, 1.0, 1.0, 1.0, 1.0, 1.0, 1.0, 1.0, 1.0, 1.0, 0.6666666666666666, 1.0, 1.0, 1.0, 1.0, 1.0, 0.4, 0.6666666666666666, 1.0, 1.0, 1.0, 1.0, 1.0, 1.0, 1.0, 1.0, 0.4, 1.0, 0.4, 1.0, 1.0, 1.0, 1.0, 1.0, 1.0, 0.6666666666666666], 'f1s_mic': [0.3333333333333333, 1.0, 1.0, 1.0, 0.6666666666666666, 1.0, 1.0, 1.0, 1.0, 0.6666666666666666, 1.0, 0.3333333333333333, 1.0, 0.6666666666666666, 1.0, 1.0, 1.0, 1.0, 1.0, 0.6666666666666666, 0.6666666666666666, 1.0, 0.6666666666666666, 1.0, 1.0, 1.0, 0.6666666666666666, 0.6666666666666666, 0.3333333333333333, 1.0, 1.0, 1.0, 1.0, 1.0, 1.0, 1.0, 0.3333333333333333, 1.0, 0.6666666666666666, 1.0, 0.6666666666666666, 1.0, 1.0, 1.0, 1.0, 1.0, 1.0, 1.0, 1.0, 1.0, 1.0, 0.6666666666666666, 1.0, 1.0, 1.0, 1.0, 1.0, 0.6666666666666666, 0.6666666666666666, 1.0, 1.0, 1.0, 1.0, 1.0, 1.0, 1.0, 1.0, 0.6666666666666666, 1.0, 0.6666666666666666, 1.0, 1.0, 1.0, 1.0, 1.0, 1.0, 0.6666666666666666], 'losses': [0.7809156179428101, 0.516688346862793, 0.42334800958633423, 0.41919249296188354, 0.5711230039596558, -0.09529872983694077, 0.1414378583431244, 0.43439412117004395, 0.3976377844810486, 0.808881938457489, 0.06769819557666779, 0.6115943193435669, 0.10187037289142609, 0.6407970786094666, 0.5176583528518677, -6.001590728759766, -0.31199127435684204, 0.530653715133667, 0.04410455375909805, 1.040633201599121, 1.414567232131958, 0.5321502685546875, 0.7801322340965271, 0.2259388566017151, -0.26743024587631226, -5.749687194824219, 0.40469568967819214, 1.5217704772949219, 0.8862593173980713, 0.05436118692159653, 0.21785585582256317, 0.4111172556877136, 0.5455347299575806, 0.0856456384062767, 0.006173512898385525, 0.3170989155769348, 0.5455310940742493, -0.37633025646209717, 0.2642466127872467, 0.1774570345878601, 0.6975883841514587, 0.10949399322271347, 0.01527348067611456, 0.3087463974952698, 0.24738755822181702, 0.2827673554420471, 0.0020323912613093853, -1.3043763637542725, -0.17782756686210632, 0.2830324172973633, 0.24573223292827606, -9.913605690002441, 1.5382630825042725, 0.23886922001838684, 0.030301641672849655, 0.05573917552828789, 0.02040766179561615, 0.5164568424224854, -3.5012595653533936, 0.08133305609226227, 0.290210485458374, 0.33135849237442017, 0.21299037337303162, -2.9122846126556396, 0.04380222409963608, -39.05460739135742, 0.19108635187149048, -0.1345265954732895, 0.2563807964324951, -0.5518776774406433, 0.015026682987809181, 0.21137669682502747, 0.0026813610456883907, -4.77993106842041, 0.03820393979549408, -1.6012868881225586, -5.905183792114258]}}\n"
          ]
        },
        {
          "output_type": "execute_result",
          "data": {
            "text/plain": [
              "<matplotlib.legend.Legend at 0x7f2985dbf050>"
            ]
          },
          "metadata": {},
          "execution_count": 26
        },
        {
          "output_type": "display_data",
          "data": {
            "text/plain": [
              "<Figure size 432x288 with 1 Axes>"
            ],
            "image/png": "[encoded data removed]"
          },
          "metadata": {
            "needs_background": "light"
          }
        }
      ]
    }
  ]
}